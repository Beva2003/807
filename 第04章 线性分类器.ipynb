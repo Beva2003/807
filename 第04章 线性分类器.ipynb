{
 "cells": [
  {
   "cell_type": "markdown",
   "metadata": {},
   "source": [
    "# 第四章 线性分类器\n",
    "---"
   ]
  },
  {
   "cell_type": "markdown",
   "metadata": {},
   "source": [
    "## 二轮总结笔记\n",
    "\n",
    "\n",
    "### 一、线性判别函数的基本概念\n",
    "\n",
    "#### 1. 线性判别函数表达式\n",
    "\n",
    "$$\n",
    "g(\\mathbf{x}) = \\mathbf{w}^\\text{T}\\mathbf{x} + w_0\n",
    "$$\n",
    "\n",
    "#### 2. 线性判别函数的性质\n",
    "\n",
    "1. 决策面是超平面，决策面的法向量为$\\mathbf{w}$。\n",
    "\n",
    "2. 原点到决策面的距离为\n",
    "\n",
    "$$\n",
    "\\frac{|w_0|}{||\\mathbf{w}||}\n",
    "$$\n",
    "\n",
    "3. 任意一点$\\mathbf{x}$到决策面的距离为\n",
    "\n",
    "$$\n",
    "\\frac{|g(\\mathbf{x})|}{||\\mathbf{w}||}\n",
    "$$\n",
    "\n",
    "\n",
    "### 二、Fisher线性判别\n",
    "\n",
    "#### 1. 思想\n",
    "\n",
    "将高维样本投影成一维，使类内离散度最小，类间离散度最大。\n",
    "\n",
    "#### 2. 准则函数\n",
    "\n",
    "$$\n",
    "J_\\text{F}(\\mathbf{w}) = \\frac{\\mathbf{w}^\\text{T}\\boldsymbol{S}_\\text{b}\\mathbf{w}}{\\mathbf{w}^\\text{T}\\boldsymbol{S}_\\text{w}\\mathbf{w}}\n",
    "$$\n",
    "\n",
    "#### 3. 判别函数和判别规则\n",
    "\n",
    "样本为正态分布且两类协方差矩阵相同时\n",
    "\n",
    "$$\n",
    "若g(\\mathbf{x}) = \\mathbf{w}^\\text{T}(\\mathbf{x} - \\frac{1}{2}(\\mathbf{m}_1 + \\mathbf{m}_2)） \\gtrless \\ln\\frac{P(\\omega_2)}{P(\\omega_1)}，则\\mathbf{x}\\in\\begin{cases}\\omega_1\\\\ \\omega_2\\end{cases}\n",
    "$$\n",
    "\n",
    "#### 4. 投影方向的计算\n",
    "\n",
    "$$\n",
    "\\mathbf{w}^* = \\mathbf{S}_\\text{w}^{-1}(\\mathbf{m}_1 - \\mathbf{m}_2)\n",
    "$$\n",
    "\n",
    "\n",
    "### 三、感知器\n",
    "\n",
    "#### 1. 思想\n",
    "\n",
    "用梯度下降算法使线性判别面收敛。\n",
    "\n",
    "#### 2. 准则函数\n",
    "\n",
    "$$\n",
    "J_\\text{P}(\\boldsymbol{\\alpha}) = \\sum_{\\boldsymbol{\\alpha}^\\text{T}\\mathbf{y}_k \\leqslant 0}-\\boldsymbol{\\alpha}^\\text{T}\\mathbf{y}_k\n",
    "$$\n",
    "\n",
    "#### 3. 判别函数和判别规则\n",
    "\n",
    "$$\n",
    "若g(\\mathbf{y}) = \\mathbf{\\boldsymbol{\\alpha}}^\\text{T}\\mathbf{y} \\gtrless 0，则\\mathbf{x}\\in\\begin{cases}\\omega_1\\\\ \\omega_2\\end{cases}\n",
    "$$\n",
    "\n",
    "#### 4. 性质\n",
    "\n",
    "只能解决一阶谓词逻辑问题（AND和OR）。\n",
    "\n",
    "#### 5. 算法\n",
    "\n",
    "每次考察一个样本，若$\\mathbf{\\boldsymbol{\\alpha}}^\\text{T}\\mathbf{y}_j \\leqslant 0$，则按梯度$\\nabla J_\\text{P}(\\boldsymbol{\\alpha}) = -\\mathbf{y}_j$更新权值$\\boldsymbol{\\alpha}$，即$\\boldsymbol{\\alpha} = \\boldsymbol{\\alpha} + \\mathbf{y}_j$，直到收敛。\n",
    "\n",
    "\n",
    "### 四、最小平方误差判别（MSE）\n",
    "\n",
    "#### 1. 思想\n",
    "\n",
    "通过最小平方误差逼近来最小化错分样本。\n",
    "\n",
    "#### 2. 准则函数\n",
    "\n",
    "$$\n",
    "J_\\text{S}(\\boldsymbol{\\alpha}) = ||\\mathbf{Y}\\boldsymbol{\\alpha} - \\mathbf{b}||^2 = \\sum_{i=1}^N (\\boldsymbol{\\alpha}^\\text{T}\\mathbf{y}_i - b_i)^2\n",
    "$$\n",
    "\n",
    "#### 3. 算法\n",
    "\n",
    "##### (1) 伪逆法\n",
    "\n",
    "用$\\mathbf{Y}$的伪逆求$\\boldsymbol{\\alpha}$\n",
    "\n",
    "$$\n",
    "\\boldsymbol{\\alpha}^* = (\\mathbf{Y}^\\text{T}\\mathbf{Y})^{-1}\\mathbf{Y}^\\text{T}\\mathbf{b} = \\mathbf{Y}^+\\mathbf{b}\n",
    "$$\n",
    "\n",
    "##### (2) LMS算法\n",
    "\n",
    "即根据准则函数的梯度$\\nabla J_\\text{S}(\\boldsymbol{\\alpha}) = 2\\mathbf{Y}^\\text{T}(\\mathbf{Y}\\boldsymbol{\\alpha} - \\mathbf{b})$进行梯度下降直到收敛。\n",
    "\n",
    "#### 4. $\\mathbf{b}$的取值\n",
    "\n",
    "##### (1) 同一类样本的$b_i$是相同值\n",
    "\n",
    "等价于Fisher线性判别，即将样本和权向量都还原成增广以前的形式后有\n",
    "\n",
    "$$\n",
    "\\mathbf{w}^* \\propto \\mathbf{S}_\\text{w}^{-1}(\\mathbf{m}_1 - \\mathbf{m}_2)\n",
    "$$\n",
    "\n",
    "##### (2) 第一类样本对应的$b_i=N/N_1$，第二类样本对应的$b_i=N/N_2$\n",
    "\n",
    "在等价于Fisher线性判别的基础上，阈值$w_0^*$是全体样本均值在判别函数方向的投影\n",
    "\n",
    "$$\n",
    "w_0^* = -m^\\text{T}\\mathbf{w}^*\n",
    "$$\n",
    "\n",
    "##### (3) $b_i$全为1，样本数量$N\\rightarrow\\infty$\n",
    "\n",
    "MSE是贝叶斯估计的最小平方误差逼近。\n",
    "\n",
    "贝叶斯判别函数为\n",
    "\n",
    "$$\n",
    "g_0(\\mathbf{x}) = P(\\omega_1|\\mathbf{x}) - P(\\omega_2|\\mathbf{x})\n",
    "$$\n",
    "\n",
    "最小平方误差逼近是指平方误差的期望最小，即\n",
    "\n",
    "$$\n",
    "\\int [\\boldsymbol{\\alpha}^\\text{T}\\mathbf{y} - g_0(\\mathbf{x})]^2p(\\mathbf{x})\\text{d}\\mathbf{x}\n",
    "$$\n",
    "\n",
    "在$\\boldsymbol{\\alpha} = \\mathbf{Y}^+\\mathbf{1}_N$时取得最小值。\n",
    "\n",
    "\n",
    "### 五、线性支持向量机（Linear SVM）\n",
    "\n",
    "#### 1. 决策函数\n",
    "\n",
    "$$\n",
    "f(\\mathbf{x}) = \\text{sgn}(g(\\mathbf{x})) = \\text{sgn}(\\mathbf{w} \\cdot \\mathbf{x} + b)\n",
    "$$\n",
    "\n",
    "#### 2. 原问题（primary problem）\n",
    "\n",
    "##### (1) 线性可分情况下\n",
    "\n",
    "$$\\begin{aligned}\n",
    "& \\min\\limits_{\\mathbf{w},b}\\frac{1}{2}||\\mathbf{w}||^2 \\\\\n",
    "&\\text{s.t.}\\quad y_i(\\mathbf{w}\\cdot\\mathbf{x}_i+b)-1 \\geqslant 0, \\quad i = 1,2,\\cdots,N\n",
    "\\end{aligned}$$\n",
    "\n",
    "##### (2) 线性不可分情况下\n",
    "\n",
    "$$\\begin{aligned}\n",
    "& \\min\\limits_{\\mathbf{w},b}\\frac{1}{2}||\\mathbf{w}||^2 + C\\sum_{i=1}^N \\xi_i \\\\\n",
    "&\\text{s.t.}\\quad y_i(\\mathbf{w}\\cdot\\mathbf{x}_i+b)-1 + \\xi_i \\geqslant 0,  \\quad \\xi_i\\geqslant 0,\\quad i = 1,2,\\cdots,N\n",
    "\\end{aligned}$$\n",
    "\n",
    "#### 3. 对偶问题（dual problem）\n",
    "\n",
    "##### (1) 线性可分情况下\n",
    "\n",
    "$$\\begin{aligned}\n",
    "&\\max\\limits_{\\boldsymbol{\\alpha}} Q(\\boldsymbol{\\alpha}) = \\sum_{i=1}^N\\alpha_i - \\frac{1}{2}\\sum_{i,j=1}^N\\alpha_i\\alpha_jy_iy_j(\\mathbf{x}_i\\cdot\\mathbf{x}_j)\\\\\n",
    "&\\text{s.t.} \\sum_{i=1}^Ny_i\\alpha_i = 0 \\\\\n",
    "&\\alpha_i \\geqslant 0,\\quad i=1,2,\\cdots,N\n",
    "\\end{aligned}$$\n",
    "\n",
    "##### (2) 线性不可分情况下\n",
    "\n",
    "$$\\begin{aligned}\n",
    "&\\max\\limits_{\\boldsymbol{\\alpha}} Q(\\boldsymbol{\\alpha}) = \\sum_{i=1}^N\\alpha_i - \\frac{1}{2}\\sum_{i,j=1}^N\\alpha_i\\alpha_jy_iy_j(\\mathbf{x}_i\\cdot\\mathbf{x}_j)\\\\\n",
    "&\\text{s.t.} \\sum_{i=1}^Ny_i\\alpha_i = 0 \\\\\n",
    "&0 \\leqslant \\alpha_i \\leqslant C,\\quad i=1,2,\\cdots,N\n",
    "\\end{aligned}$$\n",
    "\n",
    "#### 4. 支持向量\n",
    "\n",
    "##### (1) 线性可分情况下\n",
    "\n",
    "满足$\\alpha_i > 0$的样本点是支持向量，支持向量满足$y_i(\\mathbf{w}^*\\cdot\\mathbf{x}_i + b^*) - 1 = 0$。\n",
    "\n",
    "##### (2) 线性不可分情况下\n",
    "\n",
    "满足$0 < \\alpha_i < C$的样本点是边界支持向量，边界支持向量满足$\\xi_i = 0$，$y_i(\\mathbf{w}^*\\cdot\\mathbf{x}_i + b^*) - 1 = 0$\n",
    "\n",
    "满足$\\alpha_i = C$的样本点是错分支持向量，错分支持向量满足$\\xi_i > 0$，$y_i(\\mathbf{w}^*\\cdot\\mathbf{x}_i + b^*) - 1 < 0$\n",
    "\n",
    "#### 5. 权向量$\\mathbf{w}$解法\n",
    "\n",
    "$$\n",
    "\\mathbf{w}^* = \\sum_{i=1}^N\\alpha_i^*y_i\\mathbf{x}_i\n",
    "$$\n",
    "\n",
    "#### 6. 阈值$b$解法\n",
    "\n",
    "$$\n",
    "y_i(\\mathbf{w}^*\\cdot\\mathbf{x}_i+b^*) = 0\n",
    "$$\n",
    "\n",
    "##### (1) 线性可分情况下\n",
    "\n",
    "用所有的**支持向量**用上面的公式求$b$，再平均。\n",
    "\n",
    "\n",
    "##### (2) 线性不可分情况下\n",
    "\n",
    "用所有的**边界支持向量**用上面的公式求$b$，再平均。\n",
    "\n",
    "#### 7. SVM的性质\n",
    "\n",
    "SVM所得的分类超平面使VC维最小。\n",
    "\n",
    "\n",
    "### 六、多类线性分类器\n",
    "\n",
    "#### 1. 多个两类分类器的组合\n",
    "\n",
    "##### (1) 一对多\n",
    "\n",
    "1. 用$c-1$个两类分类器实现分类\n",
    "2. 优点：分类器少\n",
    "3. 缺点：样本数量不均衡、歧义区域大\n",
    "\n",
    "##### (2) 逐对分类\n",
    "\n",
    "1. 用$c(c-1)/2$个两类分类器实现分类\n",
    "2. 优点：样本数量均衡、歧义区域小\n",
    "3. 缺点：分类器多\n",
    "\n",
    "##### (3) 比较线性判别函数的阈值\n",
    "\n",
    "1. 用$c$个两类分类器实现分类\n",
    "2. 思想：比较每个分类器判别函数的输出值\n",
    "2. 问题：不同分类器训练后的权值和阈值尺度不相同，线性判别函数的输出值可能没有绝对值可比性\n",
    "\n",
    "#### 2. 多类线性判别函数\n",
    "\n",
    "##### (1) 判别函数\n",
    "\n",
    "$$\n",
    "g_i(\\mathbf{x}) = \\mathbf{w}_i^{\\text{T}}\\mathbf{x} + w_{i0}, \\quad i=1,2,\\cdots,N\n",
    "$$\n",
    "\n",
    "##### (2) 判别规则\n",
    "\n",
    "$$\n",
    "若g_i(\\mathbf{x})>g_j(\\mathbf{x}),\\forall j\\neq i, \\quad 则\\mathbf{x}\\in \\omega_i\n",
    "$$\n",
    "\n",
    "##### (3) 实现算法\n",
    "\n",
    "类似于感知器的梯度下降（逐步修正法）"
   ]
  },
  {
   "cell_type": "markdown",
   "metadata": {},
   "source": [
    "---\n",
    "\n",
    "## 一轮学习笔记（包含代码实现）\n",
    "\n",
    "线性分类器的决策面是超平面，决策函数是线性函数。\n",
    "\n",
    "有两类情况需要分开考虑：线性可分和线性不可分。\n",
    "\n",
    "首先考虑线性可分的情况，生成数据"
   ]
  },
  {
   "cell_type": "code",
   "execution_count": 22,
   "metadata": {},
   "outputs": [],
   "source": [
    "import numpy as np\n",
    "import matplotlib.pyplot as plt\n",
    "from sklearn.svm import SVC"
   ]
  },
  {
   "cell_type": "markdown",
   "metadata": {},
   "source": [
    "X是样本矩阵，每**行**是一个样本。\n",
    "\n",
    "理论推导的样本是列向量，写代码的时候为了方便一般用行向量。\n",
    "\n",
    "real_class是类别，分为1和-1两类。前二十个是1类，后二十个是-1类。\n",
    "\n",
    "生成的这组数据是线性可分的。"
   ]
  },
  {
   "cell_type": "code",
   "execution_count": 2,
   "metadata": {},
   "outputs": [
    {
     "name": "stdout",
     "output_type": "stream",
     "text": [
      "[[-0.99720813 -1.55464404]\n",
      " [-2.15332905 -0.79988732]\n",
      " [-1.6271845  -1.89607447]\n",
      " [-2.88804683 -0.72722164]\n",
      " [-0.79871052 -2.86639942]\n",
      " [-1.9454445  -1.2659932 ]\n",
      " [-2.63452428 -1.21045949]\n",
      " [-2.28814449 -3.60491927]\n",
      " [-0.14831176 -1.88885453]\n",
      " [-1.31782927 -1.09599919]\n",
      " [-3.50049996 -1.19430091]\n",
      " [-2.6730074  -3.10028377]\n",
      " [-2.34421754 -4.356574  ]\n",
      " [-1.17966467  0.04991699]\n",
      " [-2.38234616 -1.87415735]\n",
      " [-3.07994777 -1.70599279]\n",
      " [-1.41432354 -2.58620074]\n",
      " [-1.96619849 -2.00863597]\n",
      " [-2.14275402 -3.29307151]\n",
      " [-2.44862645 -1.26654069]\n",
      " [ 3.17028293  2.87021525]\n",
      " [ 1.72407696  2.27430904]\n",
      " [ 1.94459064  2.02676625]\n",
      " [ 2.95914397  0.92932175]\n",
      " [ 2.70985559  1.76582962]\n",
      " [ 2.71996217  1.25905597]\n",
      " [ 0.40617109  1.47900559]\n",
      " [ 1.718164    1.57826132]\n",
      " [ 0.52405299  1.09889933]\n",
      " [ 2.56521233  2.62989855]\n",
      " [ 1.1198243   1.04418024]\n",
      " [ 1.86167209  1.17372623]\n",
      " [ 0.09299459  2.37263639]\n",
      " [ 1.42149269  2.73232963]\n",
      " [ 1.44622845  3.0853286 ]\n",
      " [ 1.63555418  0.77169289]\n",
      " [ 1.62201784  2.85085454]\n",
      " [ 1.97566001  1.33620458]\n",
      " [ 1.4990023   2.388804  ]\n",
      " [ 3.14544988  0.89199308]]\n",
      "[1, 1, 1, 1, 1, 1, 1, 1, 1, 1, 1, 1, 1, 1, 1, 1, 1, 1, 1, 1, -1, -1, -1, -1, -1, -1, -1, -1, -1, -1, -1, -1, -1, -1, -1, -1, -1, -1, -1, -1]\n"
     ]
    }
   ],
   "source": [
    "X = np.r_[np.random.randn(20, 2) - [2.0, 2.0], np.random.randn(20, 2) + [2.0, 2.0]]\n",
    "real_class = 20 * [1] + 20 * [-1]\n",
    "\n",
    "print(X)\n",
    "print(real_class)"
   ]
  },
  {
   "cell_type": "markdown",
   "metadata": {},
   "source": [
    "下面画的图中蓝色是-1样本，红色是1样本。\n",
    "\n",
    "由图像可以明显看出来是线性可分的。\n",
    "\n",
    "（这个数据是随机生成的，如果你发现你生成的是线性不可分的，就再运行几次重新生成数据，因为下面的实验必须保证线性可分）"
   ]
  },
  {
   "cell_type": "code",
   "execution_count": 3,
   "metadata": {},
   "outputs": [
    {
     "data": {
      "image/png": "[encoded data removed]",
      "text/plain": [
       "<Figure size 640x480 with 1 Axes>"
      ]
     },
     "metadata": {},
     "output_type": "display_data"
    }
   ],
   "source": [
    "for i in range(40):\n",
    "    if real_class[i] == -1:\n",
    "        plt.scatter(X[i][0], X[i][1], c='b')\n",
    "    else:\n",
    "        plt.scatter(X[i][0], X[i][1], c='r')\n",
    "\n",
    "plt.show()"
   ]
  },
  {
   "cell_type": "markdown",
   "metadata": {},
   "source": [
    "### 一、Fisher线性判别\n",
    "\n",
    "Fisher线性判别解决的是线性可分的问题。\n",
    "\n",
    "Fisher线性判别的核心思想是投影，使投影后的样本比较好的分开。\n",
    "\n",
    "比较好的分开是指：让投影后的每一类样本都尽可能聚集在这类的均值附近，并且不同类之间尽可能分开的远一点。\n",
    "\n",
    "即寻找一个$\\mathbf{w}$，使$y_i = \\mathbf{w}^\\text{T}\\mathbf{x}_i$，让$y_i$尽可能好的分开。\n",
    "\n",
    "#### 1. $\\mathbf{w}$的求法：\n",
    "\n",
    "$$\n",
    "\\begin{aligned}\n",
    "\\mathbf{m}_1 &= \\frac{1}{N_1} \\sum_{\\mathbf{x}_i\\in\\mathscr{X}_1} \\mathbf{x}_i \\\\\n",
    "\\mathbf{m}_2 &= \\frac{1}{N_2} \\sum_{\\mathbf{x}_i\\in\\mathscr{X}_2} \\mathbf{x}_i \\\\\n",
    "\\mathbf{S}_1 &= \\sum_{\\mathbf{x}_i\\in \\mathscr{X}_1}(\\mathbf{x}_i-\\mathbf{m}_1)(\\mathbf{x}_i-\\mathbf{m}_1)^\\text{T}\\\\\n",
    "\\mathbf{S}_2 &= \\sum_{\\mathbf{x}_i\\in \\mathscr{X}_2}(\\mathbf{x}_i-\\mathbf{m}_2)(\\mathbf{x}_i-\\mathbf{m}_2)^\\text{T}\\\\\n",
    "\\mathbf{S}_\\text{w} &= \\mathbf{S}_1 + \\mathbf{S}_2 \\\\\n",
    "\\mathbf{w}^\\text{T} &= \\mathbf{S}_\\text{w}^{-1}(\\mathbf{m}_1 - \\mathbf{m}_2)\n",
    "\\end{aligned}\n",
    "$$\n",
    "\n",
    "$\\mathbf{m}_1$和$\\mathbf{m}_2$是两类样本的均值，$\\mathbf{S}_\\text{w}$是pooled with-in class scatter matrix（总类内离散度矩阵，可以理解为协方差矩阵）"
   ]
  },
  {
   "cell_type": "code",
   "execution_count": 4,
   "metadata": {},
   "outputs": [],
   "source": [
    "def get_mean(_X: np.ndarray) -> np.ndarray:\n",
    "    \"\"\"\n",
    "    计算m_i（样本均值）\n",
    "    :param _X: 样本矩阵，每一行是一个样本\n",
    "    :return: 均值（一维向量）\n",
    "    \"\"\"\n",
    "    return np.mean(_X, 0)\n",
    "\n",
    "\n",
    "def get_within_class_scatter_matrix(_X: np.ndarray) -> np.ndarray:\n",
    "    \"\"\"\n",
    "    计算S_i（类内离散度矩阵）\n",
    "    :param _X: 样本矩阵，每一行是一个样本\n",
    "    :return: 类内离散度矩阵（d * d）\n",
    "    \"\"\"\n",
    "    ret = np.zeros((_X.shape[1], _X.shape[1]))\n",
    "    m = get_mean(_X)\n",
    "    print(\"m_i = \")\n",
    "    print(m)\n",
    "    for row in _X:\n",
    "        ret += (row - m).reshape(m.shape[0], 1) @ (row - m).reshape(m.shape[0], 1).T\n",
    "    print(\"S_i = \")\n",
    "    print(ret)\n",
    "    return ret\n",
    "\n",
    "\n",
    "def get_pooled_within_class_scatter_matrix(_X1: np.ndarray, _X2: np.ndarray) -> np.ndarray:\n",
    "    \"\"\"\n",
    "    计算S_w（总类内离散度矩阵）\n",
    "    :param _X1: 第一类样本矩阵，每一行是一个样本\n",
    "    :param _X2: 第二类样本矩阵，每一行是一个样本\n",
    "    :return: 总类内离散度矩阵（d * d）\n",
    "    \"\"\"\n",
    "    return get_within_class_scatter_matrix(_X1) + get_within_class_scatter_matrix(_X2)\n",
    "\n",
    "\n",
    "def get_w(_X1: np.ndarray, _X2: np.ndarray) -> np.ndarray:\n",
    "    \"\"\"\n",
    "    计算最终需要的投影方向w\n",
    "    :param _X1: 第一类样本矩阵，每一行是一个样本\n",
    "    :param _X2: 第二类样本矩阵，每一行是一个样本\n",
    "    :return: 投影方向w（一维向量）\n",
    "    \"\"\"\n",
    "    return np.linalg.inv(get_pooled_within_class_scatter_matrix(_X1, _X2)) @ (get_mean(_X1) - get_mean(_X2))"
   ]
  },
  {
   "cell_type": "code",
   "execution_count": 5,
   "metadata": {},
   "outputs": [
    {
     "name": "stdout",
     "output_type": "stream",
     "text": [
      "m_i = \n",
      "[-1.99651597 -1.91231467]\n",
      "S_i = \n",
      "[[13.15645887  0.11877799]\n",
      " [ 0.11877799 22.70508313]]\n",
      "m_i = \n",
      "[1.81307045 1.82796564]\n",
      "S_i = \n",
      "[[14.72090202 -0.89478405]\n",
      " [-0.89478405 11.15114561]]\n",
      "w = \n",
      "[-0.13981965 -0.11368015]\n",
      "最终投影后的y = \n",
      "[ 0.31616146  0.39200903  0.4430584   0.48647637  0.43752815  0.41592967\n",
      "  0.50596349  0.72973533  0.23546217  0.30885178  0.62520699  0.72617969\n",
      "  0.82302367  0.15926573  0.5461533   0.62457474  0.49174992  0.50325523\n",
      "  0.67395599  0.48634664 -0.76955436 -0.49960364 -0.50229508 -0.51939192\n",
      " -0.57963085 -0.52343384 -0.22492428 -0.41965008 -0.19819595 -0.65763436\n",
      " -0.27527601 -0.39372772 -0.28272413 -0.50936426 -0.55295178 -0.31640878\n",
      " -0.55087554 -0.42813603 -0.48114958 -0.54119762]\n"
     ]
    }
   ],
   "source": [
    "w = get_w(X[:20], X[20:])\n",
    "print(\"w = \")\n",
    "print(w)\n",
    "y = X @ w\n",
    "print(\"最终投影后的y = \")\n",
    "print(y)"
   ]
  },
  {
   "cell_type": "markdown",
   "metadata": {},
   "source": [
    "下面是投影后的图像，可以明显的看出，投影后两类样本已经很好的分开"
   ]
  },
  {
   "cell_type": "code",
   "execution_count": 6,
   "metadata": {},
   "outputs": [
    {
     "data": {
      "image/png": "[encoded data removed]",
      "text/plain": [
       "<Figure size 640x480 with 1 Axes>"
      ]
     },
     "metadata": {},
     "output_type": "display_data"
    }
   ],
   "source": [
    "plt.clf()\n",
    "for y_i in y[:20]:\n",
    "    plt.scatter(y_i, 0, c='b')\n",
    "for y_i in y[20:]:\n",
    "    plt.scatter(y_i, 0, c='r')\n",
    "plt.show()"
   ]
  },
  {
   "cell_type": "markdown",
   "metadata": {},
   "source": [
    "#### 2. 分类\n",
    "\n",
    "假设样本服从协方差矩阵相同的正态分布，可以得到分类规则：\n",
    "\n",
    "$$若 g(\\mathbf{x}) = \\mathbf{w}^\\text{T}(\\mathbf{x} - \\frac{1}{2}(\\mathbf{m}_1 + \\mathbf{m}_2)) \\gtrless \\ln\\frac{P(\\omega_2)}{P(\\omega_1)}， 则 \\mathbf{x}\\in\\begin{cases}\\omega_1\\\\\\omega_2\\end{cases}$$\n",
    "\n",
    "先验概率可以通过样本类别的数量进行估算，因为上面的样本两类数量一样，所以这里$P(\\omega_1)=P(\\omega_2)$\n",
    "\n",
    "如果样本不符合正态分布，这样的分类阈值不一定为最优解，但是通常也可以取得较好效果（也就是说分界点歪了点，但是也能用）"
   ]
  },
  {
   "cell_type": "code",
   "execution_count": 7,
   "metadata": {},
   "outputs": [],
   "source": [
    "def classify_Fisher(_X: np.ndarray, _w: np.ndarray, _m_1: np.ndarray, _m_2: np.ndarray) -> np.ndarray:\n",
    "    \"\"\"\n",
    "    Fisher判别器分类\n",
    "    :param _X: 样本矩阵（N * d）\n",
    "    :param _w: 上面计算出来的w（投影方向）\n",
    "    :param _m_1: 第一类样本均值\n",
    "    :param _m_2: 第二类样本均值\n",
    "    :return: 分类结果（一维向量）\n",
    "    \"\"\"\n",
    "    g = ((_w @ (_X - 1 / 2 * (_m_1 + _m_2)).T) >= 0.0).astype(int)\n",
    "    for i, g_i in enumerate(g):\n",
    "        if g_i == 0:\n",
    "            g[i] = -1\n",
    "    return g"
   ]
  },
  {
   "cell_type": "code",
   "execution_count": 8,
   "metadata": {},
   "outputs": [
    {
     "name": "stdout",
     "output_type": "stream",
     "text": [
      "ans_Fisher = \n",
      "[ 1  1  1  1  1  1  1  1  1  1  1  1  1  1  1  1  1  1  1  1 -1 -1 -1 -1\n",
      " -1 -1 -1 -1 -1 -1 -1 -1 -1 -1 -1 -1 -1 -1 -1 -1]\n",
      "正确率： 1.0\n"
     ]
    }
   ],
   "source": [
    "ans_Fisher = classify_Fisher(X, w, get_mean(X[:20]), get_mean(X[20:]))\n",
    "print(\"ans_Fisher = \")\n",
    "print(ans_Fisher)\n",
    "print(\"正确率：\", 1 - np.sum(abs(ans_Fisher - real_class)) / 2 / X.shape[0])"
   ]
  },
  {
   "cell_type": "markdown",
   "metadata": {},
   "source": [
    "### 二、感知器\n",
    "\n",
    "感知器的思想是通过迭代梯度下降，找到合适的线性判别函数。如果样本是线性可分的，梯度下降最终就会收敛。\n",
    "\n",
    "感知机解决的也是线性可分的情况。\n",
    "\n",
    "#### 1. 预处理数据\n",
    "\n",
    "1. 将$\\mathbf{x}$增广为$\\mathbf{y} = [1, \\mathbf{x^\\text{T}}]^\\text{T}$\n",
    "2. 再次处理$\\mathbf{y}=\\begin{cases} \\mathbf{y}, &若\\mathbf{y}\\in \\omega_1 \\\\ -\\mathbf{y}, &若\\mathbf{y}\\in \\omega_2\\end{cases}$\n",
    "3. 设权向量$\\boldsymbol{\\alpha}$是$d+1$维向量\n",
    "4. 线性判别函数变为$g(\\mathbf{y}) = \\boldsymbol{\\alpha}^\\text{T}\\mathbf{y}$\n",
    "5. 可以设置余量$b$来避免噪声误差，也可以使$b=0$\n",
    "\n",
    "预处理后感知器的核心问题就是求出权向量$\\boldsymbol{\\alpha}$的值，因为求出了权向量，就相当于找到了线性判别函数。"
   ]
  },
  {
   "cell_type": "code",
   "execution_count": 9,
   "metadata": {},
   "outputs": [
    {
     "name": "stdout",
     "output_type": "stream",
     "text": [
      "[[ 1.         -0.99720813 -1.55464404]\n",
      " [ 1.         -2.15332905 -0.79988732]\n",
      " [ 1.         -1.6271845  -1.89607447]\n",
      " [ 1.         -2.88804683 -0.72722164]\n",
      " [ 1.         -0.79871052 -2.86639942]\n",
      " [ 1.         -1.9454445  -1.2659932 ]\n",
      " [ 1.         -2.63452428 -1.21045949]\n",
      " [ 1.         -2.28814449 -3.60491927]\n",
      " [ 1.         -0.14831176 -1.88885453]\n",
      " [ 1.         -1.31782927 -1.09599919]\n",
      " [ 1.         -3.50049996 -1.19430091]\n",
      " [ 1.         -2.6730074  -3.10028377]\n",
      " [ 1.         -2.34421754 -4.356574  ]\n",
      " [ 1.         -1.17966467  0.04991699]\n",
      " [ 1.         -2.38234616 -1.87415735]\n",
      " [ 1.         -3.07994777 -1.70599279]\n",
      " [ 1.         -1.41432354 -2.58620074]\n",
      " [ 1.         -1.96619849 -2.00863597]\n",
      " [ 1.         -2.14275402 -3.29307151]\n",
      " [ 1.         -2.44862645 -1.26654069]\n",
      " [-1.         -3.17028293 -2.87021525]\n",
      " [-1.         -1.72407696 -2.27430904]\n",
      " [-1.         -1.94459064 -2.02676625]\n",
      " [-1.         -2.95914397 -0.92932175]\n",
      " [-1.         -2.70985559 -1.76582962]\n",
      " [-1.         -2.71996217 -1.25905597]\n",
      " [-1.         -0.40617109 -1.47900559]\n",
      " [-1.         -1.718164   -1.57826132]\n",
      " [-1.         -0.52405299 -1.09889933]\n",
      " [-1.         -2.56521233 -2.62989855]\n",
      " [-1.         -1.1198243  -1.04418024]\n",
      " [-1.         -1.86167209 -1.17372623]\n",
      " [-1.         -0.09299459 -2.37263639]\n",
      " [-1.         -1.42149269 -2.73232963]\n",
      " [-1.         -1.44622845 -3.0853286 ]\n",
      " [-1.         -1.63555418 -0.77169289]\n",
      " [-1.         -1.62201784 -2.85085454]\n",
      " [-1.         -1.97566001 -1.33620458]\n",
      " [-1.         -1.4990023  -2.388804  ]\n",
      " [-1.         -3.14544988 -0.89199308]]\n"
     ]
    }
   ],
   "source": [
    "Y = np.concatenate((np.ones((X.shape[0], 1)), X), 1)\n",
    "\n",
    "for i in range(20, 40):\n",
    "    Y[i] = -Y[i]\n",
    "\n",
    "print(Y)"
   ]
  },
  {
   "cell_type": "markdown",
   "metadata": {},
   "source": [
    "#### 2. 权向量$\\boldsymbol{\\alpha}$的计算\n",
    "\n",
    "采用迭代法，每次考察一个样本$\\mathbf{y}_i$，判断$\\boldsymbol{\\alpha}^\\text{T}\\mathbf{y}_i \\leq b$是否成立。\n",
    "\n",
    "如果不成立，令$\\boldsymbol{\\alpha} = \\boldsymbol{\\alpha} + \\rho\\mathbf{y}_i$\n",
    "\n",
    "其中，$\\rho$可以设置为$1$，也可以按照**绝对修正法**设置为\n",
    "\n",
    "$$\\rho = \\frac{|\\boldsymbol{\\alpha^\\text{T}}\\mathbf{y}_i|}{||\\mathbf{y}_i||^2}$$\n",
    "\n",
    "这样收敛更快。\n",
    "\n",
    "接着考察下一个样本，如果当前一轮所有样本都考察过并且都满足条件，则判断为收敛。"
   ]
  },
  {
   "cell_type": "code",
   "execution_count": 10,
   "metadata": {},
   "outputs": [],
   "source": [
    "def get_alpha(_Y: np.ndarray, _b: float, _is_rho_enable: bool) -> (np.ndarray, int):\n",
    "    \"\"\"\n",
    "    迭代计算最终的alpha值\n",
    "    :param _Y: 预处理后的样本矩阵（N * d+1）\n",
    "    :param _b: 余量b\n",
    "    :param _is_rho_enable: False: rho设置为1, True: rho设置为绝对修正法\n",
    "    :return: 最终的alpha, 迭代次数\n",
    "    \"\"\"\n",
    "    i, n = 0, 0\n",
    "    iters = 0\n",
    "    alpha = np.zeros(_Y.shape[1])  # 初始化 alpha = [0. 0. 0.]\n",
    "    while n < _Y.shape[0]:\n",
    "        if np.sum(alpha * _Y[i]) <= _b:\n",
    "            rho = 1\n",
    "            if _is_rho_enable:\n",
    "                rho = abs(np.sum(alpha * _Y[i])) / np.sum(_Y[i] * _Y[i])\n",
    "                if rho == 0:  # 这里要特别注意，书上没说。步长显然是一个正数，不能为0，如果是0会陷入死循环。\n",
    "                    rho = 1\n",
    "            n = -1\n",
    "            alpha = alpha + rho * _Y[i]\n",
    "            iters += 1\n",
    "        i += 1\n",
    "        if i >= _Y.shape[0]:\n",
    "            i = 0\n",
    "        n += 1\n",
    "        if iters > 100000:\n",
    "            raise Exception('迭代100000次还不收敛，数据可能不是线性可分的')\n",
    "    return alpha, iters"
   ]
  },
  {
   "cell_type": "code",
   "execution_count": 11,
   "metadata": {},
   "outputs": [
    {
     "name": "stdout",
     "output_type": "stream",
     "text": [
      "将rho设置为1：\n",
      "alpha = [ 1.         -0.99720813 -1.55464404] \n",
      "迭代次数 = 1\n",
      "将rho采用绝对修正法：\n",
      "alpha = [ 1.         -0.99720813 -1.55464404] \n",
      "迭代次数 = 1\n"
     ]
    }
   ],
   "source": [
    "alpha_without_rho, iters_without_rho = get_alpha(Y, 0, False)\n",
    "print(\"将rho设置为1：\\nalpha =\", alpha_without_rho, \"\\n迭代次数 =\", iters_without_rho)\n",
    "alpha_with_rho, iters_with_rho = get_alpha(Y, 0, True)\n",
    "print(\"将rho采用绝对修正法：\\nalpha =\", alpha_without_rho, \"\\n迭代次数 =\", iters_without_rho)"
   ]
  },
  {
   "cell_type": "markdown",
   "metadata": {},
   "source": [
    "因为数据维度太小了，收敛的太快了，一次迭代就收敛了，所以没显出绝对修正法的速度优势"
   ]
  },
  {
   "cell_type": "markdown",
   "metadata": {},
   "source": [
    "#### 3. 分类\n",
    "\n",
    "判别规则如下：\n",
    "\n",
    "$$若g(\\mathbf{y}) = \\boldsymbol{\\alpha}^\\text{T}\\mathbf{y} \\gtrless 0, 则\\mathbf{y}\\in\\begin{cases}\\omega_1\\\\ \\omega_2\\end{cases}$$"
   ]
  },
  {
   "cell_type": "code",
   "execution_count": 12,
   "metadata": {},
   "outputs": [],
   "source": [
    "def classify_perceptron(_Y: np.ndarray, _alpha: np.ndarray) -> np.ndarray:\n",
    "    \"\"\"\n",
    "    感知机方法分类\n",
    "    :param _Y: 增广后的样本矩阵（每一行为一个样本），*****注意这里只增广，不改变正负号*****\n",
    "    :param _alpha: 前面算出的alpha值\n",
    "    :return: 返回分类好的矩阵（一维向量）\n",
    "    \"\"\"\n",
    "    g = ((_alpha @ _Y.T) >= 0).astype(int)\n",
    "    for i, g_i in enumerate(g):\n",
    "        if g_i == 0:\n",
    "            g[i] = -1\n",
    "    return g"
   ]
  },
  {
   "cell_type": "code",
   "execution_count": 13,
   "metadata": {},
   "outputs": [
    {
     "name": "stdout",
     "output_type": "stream",
     "text": [
      "ans_perceptron = \n",
      "[ 1  1  1  1  1  1  1  1  1  1  1  1  1  1  1  1  1  1  1  1 -1 -1 -1 -1\n",
      " -1 -1 -1 -1 -1 -1 -1 -1 -1 -1 -1 -1 -1 -1 -1 -1]\n",
      "正确率： 1.0\n"
     ]
    }
   ],
   "source": [
    "# 注意我们前面把Y预处理过，把原来的第二类样本y变成了-y，这里要变回来才能分类\n",
    "ans_perceptron = classify_perceptron(np.concatenate([Y[:20], -Y[20:]]), alpha_without_rho)\n",
    "print(\"ans_perceptron = \")\n",
    "print(ans_perceptron)\n",
    "print(\"正确率：\", 1 - np.sum(abs(ans_perceptron - real_class)) / 2 / X.shape[0])"
   ]
  },
  {
   "cell_type": "markdown",
   "metadata": {},
   "source": [
    "### 三、最小平方误差判别\n",
    "\n",
    "这个算法用于解决线性不可分，解决的思想是：引入松弛变量，使投影后的样本线性可分。并且让松弛变量尽可能小。具体使松弛变量变小的方法是用最小平方误差使投影后的样本离人为设定的阈值最近。\n",
    "\n",
    "先生成一下新的线性不可分的数据。"
   ]
  },
  {
   "cell_type": "code",
   "execution_count": 14,
   "metadata": {},
   "outputs": [
    {
     "name": "stdout",
     "output_type": "stream",
     "text": [
      "[[-1.34299662 -1.04252449]\n",
      " [-2.79854016 -2.59819657]\n",
      " [-0.77424817 -2.18673294]\n",
      " [-1.34896419  0.1280363 ]\n",
      " [-2.39101614 -1.86949986]\n",
      " [-1.05532767 -0.6941443 ]\n",
      " [-0.01296092 -0.14118512]\n",
      " [ 0.18570744 -0.42184708]\n",
      " [-1.17572825 -0.48215859]\n",
      " [-0.6787651  -0.74512697]\n",
      " [ 0.07235573  0.22487309]\n",
      " [-1.45626639 -1.29698314]\n",
      " [-3.03224089 -0.73369765]\n",
      " [-1.63819157  0.04351657]\n",
      " [-0.75748584 -2.12514056]\n",
      " [-0.62754058 -1.70106403]\n",
      " [-0.14226139 -0.44542636]\n",
      " [-0.66372502 -1.22693198]\n",
      " [-2.32776608 -0.59538424]\n",
      " [-1.17255684 -1.10848414]\n",
      " [ 1.01004954  1.96209479]\n",
      " [-0.46661866 -0.02766581]\n",
      " [ 0.85500022  1.15566666]\n",
      " [ 1.47413048  1.28779157]\n",
      " [ 0.4647262   2.94319899]\n",
      " [ 0.79042834  1.69130797]\n",
      " [ 1.91553629  0.52362328]\n",
      " [ 0.84999404  1.36781803]\n",
      " [ 1.11544251  0.23309943]\n",
      " [ 0.46791749  1.96889589]\n",
      " [ 1.17958567 -0.29744786]\n",
      " [ 0.57513099  1.41559357]\n",
      " [ 1.53657285  1.13196758]\n",
      " [ 2.1828135  -0.06019617]\n",
      " [ 0.59310113  0.97142505]\n",
      " [ 0.30757167  0.34764882]\n",
      " [ 1.67442632  0.9752627 ]\n",
      " [ 0.03075503  1.00573105]\n",
      " [ 1.45106052  1.98296215]\n",
      " [ 0.80973014  0.20798233]]\n",
      "[1, 1, 1, 1, 1, 1, 1, 1, 1, 1, 1, 1, 1, 1, 1, 1, 1, 1, 1, 1, -1, -1, -1, -1, -1, -1, -1, -1, -1, -1, -1, -1, -1, -1, -1, -1, -1, -1, -1, -1]\n"
     ]
    }
   ],
   "source": [
    "X = np.r_[np.random.randn(20, 2) - [1, 1], np.random.randn(20, 2) + [1, 1]]\n",
    "real_class = 20 * [1] + 20 * [-1]\n",
    "\n",
    "print(X)\n",
    "print(real_class)"
   ]
  },
  {
   "cell_type": "markdown",
   "metadata": {},
   "source": [
    "再生成一下散点图，发现确实是线性不可分的情况（如果你发现是线性可分的，就重新跑几次上面生成数据的代码）"
   ]
  },
  {
   "cell_type": "code",
   "execution_count": 15,
   "metadata": {},
   "outputs": [
    {
     "data": {
      "image/png": "[encoded data removed]",
      "text/plain": [
       "<Figure size 640x480 with 1 Axes>"
      ]
     },
     "metadata": {},
     "output_type": "display_data"
    }
   ],
   "source": [
    "for i in range(40):\n",
    "    if real_class[i] == -1:\n",
    "        plt.scatter(X[i][0], X[i][1], c='b')\n",
    "    else:\n",
    "        plt.scatter(X[i][0], X[i][1], c='r')\n",
    "\n",
    "plt.show()"
   ]
  },
  {
   "cell_type": "markdown",
   "metadata": {},
   "source": [
    "最小平方误差判别有两种实现方式：伪逆法求解和梯度下降法求解。\n",
    "\n",
    "梯度下降法和上面的感知器实现的类似，只不过迭代公式有变化，就不实现了。梯度下降的实现也叫LMS算法。\n",
    "\n",
    "下面实现伪逆法：\n",
    "\n",
    "#### 1. 计算权向量$\\boldsymbol{\\alpha}$\n",
    "\n",
    "最小平方误差的判别函数和感知器类似，但是引入了新的常数向量$\\mathbf{b}$（这个向量是人为设置的）\n",
    "\n",
    "如果$\\mathbf{b}$把同一类样本的$b_i$设置为相同的值，就和Fisher线性判别等价；\n",
    "\n",
    "如果$\\mathbf{b}$是全为1的向量，最后MSE算法的解是贝叶斯判别函数的最小平方误差逼近，也就是平方误差的期望最小。\n",
    "\n",
    "判别函数为$g(\\mathbf{y}) = \\boldsymbol{\\alpha}^\\text{T}\\mathbf{y} - \\mathbf{b}$\n",
    "\n",
    "$\\boldsymbol{\\alpha}$的算法为：\n",
    "\n",
    "$$\\begin{align}\\boldsymbol{\\alpha} &= \\mathbf{Y}^+\\mathbf{b} \\\\ \\mathbf{Y}^+&=(\\mathbf{Y}^\\text{T}\\mathbf{Y})^{-1}\\mathbf{Y}^\\text{T}\\end{align}$$\n",
    "\n",
    "$\\mathbf{Y}^+$也叫$\\mathbf{Y}$的伪逆，可以用`np.linalg.pinv()`计算\n",
    "\n"
   ]
  },
  {
   "cell_type": "code",
   "execution_count": 16,
   "metadata": {},
   "outputs": [
    {
     "name": "stdout",
     "output_type": "stream",
     "text": [
      "[-0.02712775 -0.38992454 -0.33913745]\n"
     ]
    }
   ],
   "source": [
    "# 预处理数据和上面感知器是一样的\n",
    "Y = np.concatenate((np.ones((X.shape[0], 1)), X), 1)\n",
    "\n",
    "for i in range(20, 40):\n",
    "    Y[i] = -Y[i]\n",
    "\n",
    "# 这里我把b设为全1的向量\n",
    "b = np.ones(Y.shape[0])\n",
    "\n",
    "alpha = b @ np.linalg.pinv(Y).T\n",
    "print(alpha)"
   ]
  },
  {
   "cell_type": "markdown",
   "metadata": {},
   "source": [
    "#### 2. 分类\n",
    "\n",
    "分类和感知器一样，决策规则：\n",
    "\n",
    "$$若g(\\mathbf{y}) = \\boldsymbol{\\alpha}^\\text{T}\\mathbf{y} \\gtrless 0, 则\\mathbf{y}\\in\\begin{cases}\\omega_1\\\\ \\omega_2\\end{cases}$$"
   ]
  },
  {
   "cell_type": "code",
   "execution_count": 17,
   "metadata": {},
   "outputs": [],
   "source": [
    "def classify_MSE(_Y: np.ndarray, _alpha: np.ndarray) -> np.ndarray:\n",
    "    \"\"\"\n",
    "    感知机方法分类\n",
    "    :param _Y: 增广后的样本矩阵（每一行为一个样本），*****注意这里只增广，不改变正负号*****\n",
    "    :param _alpha: 前面算出的alpha值\n",
    "    :return: 返回分类好的矩阵（一维向量）\n",
    "    \"\"\"\n",
    "    g = ((_alpha @ _Y.T) >= 0).astype(int)\n",
    "    for i, g_i in enumerate(g):\n",
    "        if g_i == 0:\n",
    "            g[i] = -1\n",
    "    return g"
   ]
  },
  {
   "cell_type": "code",
   "execution_count": 18,
   "metadata": {},
   "outputs": [
    {
     "name": "stdout",
     "output_type": "stream",
     "text": [
      "ans_MSE = \n",
      "[ 1  1  1  1  1  1  1  1  1  1 -1  1  1  1  1  1  1  1  1  1 -1  1 -1 -1\n",
      " -1 -1 -1 -1 -1 -1 -1 -1 -1 -1 -1 -1 -1 -1 -1 -1]\n",
      "正确率： 0.95\n"
     ]
    }
   ],
   "source": [
    "# 注意我们前面把Y预处理过，把原来的第二类样本y变成了-y，这里要变回来才能分类\n",
    "ans_MSE = classify_MSE(np.concatenate([Y[:20], -Y[20:]]), alpha)\n",
    "print(\"ans_MSE = \")\n",
    "print(ans_MSE)\n",
    "print(\"正确率：\", 1 - np.sum(abs(ans_MSE - real_class)) / 2 / X.shape[0])"
   ]
  },
  {
   "cell_type": "markdown",
   "metadata": {},
   "source": [
    "为了证明如果$\\mathbf{b}$把同一类样本的$b_i$设置为相同的值，就和Fisher线性判别等价，\n",
    "\n",
    "我又用Fisher线性分类算了一下结果。显然和MSE完全一致"
   ]
  },
  {
   "cell_type": "code",
   "execution_count": 19,
   "metadata": {},
   "outputs": [
    {
     "name": "stdout",
     "output_type": "stream",
     "text": [
      "m_i = \n",
      "[-1.15692593 -0.9509051 ]\n",
      "S_i = \n",
      "[[16.21931747  4.68690613]\n",
      " [ 4.68690613 12.48347856]]\n",
      "m_i = \n",
      "[0.94086771 1.039338  ]\n",
      "S_i = \n",
      "[[ 7.99324042 -1.16075032]\n",
      " [-1.16075032 13.21892985]]\n",
      "ans_Fisher = \n",
      "[ 1  1  1  1  1  1  1  1  1  1 -1  1  1  1  1  1  1  1  1  1 -1  1 -1 -1\n",
      " -1 -1 -1 -1 -1 -1 -1 -1 -1 -1 -1 -1 -1 -1 -1 -1]\n",
      "正确率： 0.95\n"
     ]
    }
   ],
   "source": [
    "w = get_w(X[:20], X[20:])\n",
    "ans_Fisher = classify_Fisher(X, w, get_mean(X[:20]), get_mean(X[20:]))\n",
    "print(\"ans_Fisher = \")\n",
    "print(ans_Fisher)\n",
    "print(\"正确率：\", 1 - np.sum(abs(ans_Fisher - real_class)) / 2 / X.shape[0])"
   ]
  },
  {
   "cell_type": "markdown",
   "metadata": {},
   "source": [
    "### 四、线性支持向量机\n",
    "\n",
    "线性支持向量机的思想是：\n",
    "\n",
    "如果样本是线性可分的，则找出两类样本的分界面，使边界样本到分界面的距离尽可能大。边界样本又叫支持向量。\n",
    "\n",
    "推广到线性不可分的样本，引入松驰变量$\\xi_i \\quad i = 1, 2, \\cdots, N$\n",
    "\n",
    "这一节的符号表示和前面不同，用别的教材比较常用的符号来表示。样本向量为$\\mathbf{x}_i$，类别为$y_i = 1$或$-1$\n",
    "\n",
    "线性支持向量机的算法如下\n",
    "\n",
    "#### 1. 求分类面参数\n",
    "\n",
    "这个算法的数学推导非常之复杂，书上说了跟没说一样，这篇文章讲的很详细，可以参考一下：[支持向量机的数学原理详细推导和一些优化技巧](https://zhuanlan.zhihu.com/p/413953469)\n",
    "\n",
    "具体算法如下：\n",
    "\n",
    "(1) 解决最优分类超平面的对偶问题（the dual problem）即通过下面的公式求出$\\boldsymbol{\\alpha}^*$（具体的求法书中没给出，我直接用sklearn调包实现了）\n",
    "\n",
    "$$\\begin{align}\n",
    "&\\max\\limits_{\\boldsymbol{\\alpha}}Q(\\boldsymbol{\\alpha}) = \\sum_{i=1}^{N}\\alpha_i - \\frac{1}{2}\\sum_{i,j=1}^{N}\\alpha_i\\alpha_jy_iy_j(\\mathbf{x}_i\\cdot\\mathbf{x}_j) \\\\\n",
    "&\\text{s.t.}\\sum_{i=1}^{N}y_i\\alpha_i = 0 \\\\\n",
    "&0 \\leqslant \\alpha_i \\leqslant C,\\quad i=1,\\cdots,N\n",
    "\\end{align}\n",
    "$$\n",
    "\n",
    "其中$C$是指定常数，强调对分类错误的惩罚。\n",
    "\n",
    "(2) 通过下面的公式求出$\\mathbf{w}^*$\n",
    "\n",
    "$$\\mathbf{w}^* = \\sum_{i=1}^N\\alpha_i^*y_i\\mathbf{x}_i$$\n",
    "\n",
    "(3)通过下面的公式求出b\n",
    "\n",
    "$$y_i[(\\mathbf{w^*}\\cdot\\mathbf{x}_i) + b] - 1 + \\xi_i = 0$$\n",
    "\n",
    "需要注意这里的$\\mathbf{x}_i, y_i$是一个样本，求b的时候把所有的**边界支持向量**样本都用上，每个支持向量算一个b出来，然后算平均值，作为最终的b。\n",
    "\n",
    "支持向量是$\\alpha_i>0$的样本，分为两种：\n",
    "\n",
    "$0<\\alpha_i<C，\\xi_i=0$ 的叫边界支持向量（对应分类正确但处在分类边界面上的样本）\n",
    "\n",
    "$\\alpha_i=C， \\xi_i>0$ 的叫错分支持向量（对应分类错误的样本）。\n",
    "\n",
    "代码实现如下（我直接用sklearn了）："
   ]
  },
  {
   "cell_type": "code",
   "execution_count": 25,
   "metadata": {},
   "outputs": [],
   "source": [
    "# 用SVC而不是LinearSVC的原因是LinearSVC没有提供查看支持向量的方法\n",
    "svc = SVC(kernel=\"linear\")\n",
    "_ = svc.fit(X, real_class)  # _没有意义，是为了防止输出"
   ]
  },
  {
   "cell_type": "code",
   "execution_count": 31,
   "metadata": {},
   "outputs": [
    {
     "name": "stdout",
     "output_type": "stream",
     "text": [
      "支持向量为：\n",
      "[[-0.46661866 -0.02766581]\n",
      " [ 1.17958567 -0.29744786]\n",
      " [ 0.30757167  0.34764882]\n",
      " [ 0.03075503  1.00573105]\n",
      " [ 0.80973014  0.20798233]\n",
      " [-0.01296092 -0.14118512]\n",
      " [ 0.18570744 -0.42184708]\n",
      " [ 0.07235573  0.22487309]\n",
      " [-0.14226139 -0.44542636]]\n",
      "对偶问题中的alpha系数中大于零的部分为：\n",
      "[[-1.         -1.         -1.         -0.40243771 -0.43370871  1.\n",
      "   1.          1.          0.83614642]]\n"
     ]
    }
   ],
   "source": [
    "alpha = svc.dual_coef_  # alpha是对偶问题的alpha系数中大于0的部分（即支持向量的alpha系数）\n",
    "support_vectors = svc.support_vectors_  # support_vectors是支持向量\n",
    "\n",
    "print(\"支持向量为：\")\n",
    "print(support_vectors)\n",
    "print(\"对偶问题中的alpha系数中大于零的部分为：\")\n",
    "print(alpha)"
   ]
  },
  {
   "cell_type": "markdown",
   "metadata": {},
   "source": [
    "对偶问题的系数alpha大于零的部分分为两类：等于C（sklearn的默认C值是1）时是错分支持向量，在0和C之间是边界支持向量。\n",
    "\n",
    "注意sklearn实现时alpha带正负号，实际上是$y_i\\alpha_i$，和书上写的有点区别。\n",
    "\n",
    "下面可视化一下，更好的理解SVM。"
   ]
  },
  {
   "cell_type": "code",
   "execution_count": 52,
   "metadata": {},
   "outputs": [
    {
     "data": {
      "image/png": "[encoded data removed]",
      "text/plain": [
       "<Figure size 640x480 with 1 Axes>"
      ]
     },
     "metadata": {},
     "output_type": "display_data"
    }
   ],
   "source": [
    "# 画出判别面\n",
    "w = np.sum(alpha.reshape(alpha.shape[1], 1) * support_vectors, 0)\n",
    "b = svc.intercept_\n",
    "x1 = np.arange(-3, 3.1, 0.2)\n",
    "plt.plot(x1, (-w[0] * x1 - b) / w[1])\n",
    "plt.plot(x1, (-w[0] * x1 - b + 1) / w[1])\n",
    "plt.plot(x1, (-w[0] * x1 - b - 1) / w[1])\n",
    "\n",
    "# 画出样本点\n",
    "for i in range(40):\n",
    "    if real_class[i] == -1:\n",
    "        plt.scatter(X[i][0], X[i][1], c='b')\n",
    "    else:\n",
    "        plt.scatter(X[i][0], X[i][1], c='r')\n",
    "\n",
    "# 画出支持向量\n",
    "for i, x in enumerate(support_vectors):\n",
    "    if abs(alpha[0][i]) == 1:\n",
    "        plt.scatter(x[0], x[1], marker='x', s=50, c='black')\n",
    "    else:\n",
    "        plt.scatter(x[0], x[1], marker='+', s=70, c='black')\n",
    "\n",
    "plt.show()"
   ]
  },
  {
   "cell_type": "markdown",
   "metadata": {},
   "source": [
    "图中的三条直线分别是判别函数$g(\\mathbf{x}) = 0$，$g(\\mathbf{x}) = 1$和$g(\\mathbf{x}) = -1$\n",
    "\n",
    "标记为+号的样本点是边界支持向量，标记为x号的样本点是错分支持向量。\n",
    "\n",
    "可以看到，边界支持向量在$g(\\mathbf{x}) = 1$和$g(\\mathbf{x}) = -1$上并且分类正确；但是错分支持向量不是只有分类错误，即在判别面对侧的样本，也包含了和判别面距离小于1的样本。"
   ]
  },
  {
   "cell_type": "markdown",
   "metadata": {},
   "source": [
    "### 2. 分类\n",
    "\n",
    "广义最优分类面的判别函数是：\n",
    "\n",
    "$$f(\\mathbf{x}) = \\text{sgn}\\{(\\mathbf{w}^*\\cdot\\mathbf{x}) + b\\}=\\text{sgn}\\{\\sum_{i=1}^{N}\\alpha_i^*y_i(\\mathbf{x}_i\\cdot\\mathbf{x}) + b^*\\}$$"
   ]
  },
  {
   "cell_type": "markdown",
   "metadata": {},
   "source": [
    "### 五、多类线性分类器\n",
    "\n",
    "#### 1. 多个两类分类器的组合\n",
    "\n",
    "书中介绍了三种实现方式：$c-1$个一对多、$\\frac{c(c-1)}{2}$个逐对分类、$c$个一对多分类器。\n",
    "\n",
    "注意c个一对多分类器中**不一定**可以直接比较线性判别函数的输出值，用来确定类别。因为$\\mathbf{w}$的尺度可能不相同，不同分类器的输出值不一定有可比性\n",
    "\n",
    "#### 2. 多类线性判别函数\n",
    "\n",
    "实际上是感知器的变形，也和感知器一样通过迭代来运算。\n",
    "\n",
    "书中对这个内容介绍篇幅非常少，应该不重要，而且和感知器非常类似，这里就不用代码实现了。"
   ]
  }
 ],
 "metadata": {
  "kernelspec": {
   "display_name": "Python 3 (ipykernel)",
   "language": "python",
   "name": "python3"
  },
  "language_info": {
   "codemirror_mode": {
    "name": "ipython",
    "version": 3
   },
   "file_extension": ".py",
   "mimetype": "text/x-python",
   "name": "python",
   "nbconvert_exporter": "python",
   "pygments_lexer": "ipython3",
   "version": "3.9.16"
  }
 },
 "nbformat": 4,
 "nbformat_minor": 1
}
