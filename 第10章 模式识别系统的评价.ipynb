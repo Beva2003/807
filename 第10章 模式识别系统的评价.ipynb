{
 "cells": [
  {
   "cell_type": "markdown",
   "source": [
    "## 第十章 模式识别系统的评价\n",
    "\n",
    "这一章介绍了大多数其他教材放在第一章的内容，即分类算法的检验方法。\n",
    "\n",
    "教材的重点放在了检验方法得出的错误率的理论分析上面，即从概率论的角度分析错误率的期望和方差。这部分都是数学推导，不需要写代码。\n",
    "\n",
    "而教材中提到的计算错误率的检验方法实现起来都很非常简单，而且在sklearn中都有库可以很方便的调用。\n",
    "\n",
    "只有扰动重采样估计SVM错误率的置信区间非常复杂，但是这个算法其实不重要，作者把它放在教材上主要还是因为这个算法是作者自己发的文章。\n",
    "\n",
    "下面我只实现一下bootstrap .632估计。"
   ],
   "metadata": {
    "collapsed": false
   }
  },
  {
   "cell_type": "code",
   "execution_count": 1,
   "outputs": [],
   "source": [
    "from sklearn.utils import resample\n",
    "from sklearn.svm import LinearSVC\n",
    "import numpy as np"
   ],
   "metadata": {
    "collapsed": false
   }
  },
  {
   "cell_type": "markdown",
   "source": [
    "下面用手写数字识别的数据集。"
   ],
   "metadata": {
    "collapsed": false
   }
  },
  {
   "cell_type": "code",
   "execution_count": 2,
   "outputs": [],
   "source": [
    "X = np.load(\"./data/digit_0_1_X.npy\")\n",
    "y = np.load(\"./data/digit_0_1_y.npy\")\n",
    "X = X[:1000]\n",
    "y = y[:1000] #前一千个是0和1，后面是其他数字\n",
    "y = y.reshape(1000)"
   ],
   "metadata": {
    "collapsed": false
   }
  },
  {
   "cell_type": "markdown",
   "source": [
    "先计算自举错误率B1。"
   ],
   "metadata": {
    "collapsed": false
   }
  },
  {
   "cell_type": "code",
   "execution_count": 3,
   "outputs": [
    {
     "name": "stdout",
     "output_type": "stream",
     "text": [
      "bootstrap第1次，自举样本集中包含了原始样本集67.10000000000001%的样本。\n",
      "本次训练错误率为：0.003039513677811523\n",
      "bootstrap第2次，自举样本集中包含了原始样本集63.2%的样本。\n",
      "本次训练错误率为：0.0027173913043477826\n",
      "bootstrap第3次，自举样本集中包含了原始样本集61.5%的样本。\n",
      "本次训练错误率为：0.0051948051948051965\n",
      "bootstrap第4次，自举样本集中包含了原始样本集62.7%的样本。\n",
      "本次训练错误率为：0.002680965147453085\n",
      "bootstrap第5次，自举样本集中包含了原始样本集63.4%的样本。\n",
      "本次训练错误率为：0.002732240437158473\n",
      "bootstrap第6次，自举样本集中包含了原始样本集62.7%的样本。\n",
      "本次训练错误率为：0.00536193029490617\n",
      "bootstrap第7次，自举样本集中包含了原始样本集63.7%的样本。\n",
      "本次训练错误率为：0.0027548209366391463\n",
      "bootstrap第8次，自举样本集中包含了原始样本集64.7%的样本。\n",
      "本次训练错误率为：0.0028328611898017497\n",
      "bootstrap第9次，自举样本集中包含了原始样本集62.8%的样本。\n",
      "本次训练错误率为：0.0\n",
      "bootstrap第10次，自举样本集中包含了原始样本集63.2%的样本。\n",
      "本次训练错误率为：0.0027173913043477826\n",
      "自举平均错误率B1 = 0.003003191948727091\n"
     ]
    }
   ],
   "source": [
    "# 下面计算十次bootstrap样本集在线性支持向量机上的错误率\n",
    "b1 = 0\n",
    "for i in range(10):\n",
    "    bootstrap_index = []\n",
    "    test_index = set(range(X.shape[0]))\n",
    "    X_bootstrap = resample(X)\n",
    "    for x in X_bootstrap:\n",
    "        for j in range(X.shape[0]):\n",
    "            if (X[j] == x).all():\n",
    "                bootstrap_index.append(j)\n",
    "                if j in test_index:\n",
    "                    test_index.remove(j)\n",
    "                break\n",
    "    test_index = list(test_index)\n",
    "    y_bootstrap = y[bootstrap_index]\n",
    "    X_test = X[test_index]\n",
    "    y_test = y[test_index]\n",
    "    print(\"bootstrap第\", i + 1, \"次，自举样本集中包含了原始样本集\",\n",
    "          (1 - len(test_index) / X.shape[0]) * 100, \"%的样本。\", sep=\"\")\n",
    "    lsvc = LinearSVC()\n",
    "    lsvc.fit(X_bootstrap, y_bootstrap)\n",
    "    err = 1 - lsvc.score(X_test, y_test)\n",
    "    b1 += err\n",
    "    print(\"本次训练错误率为：\", err,sep=\"\")\n",
    "b1 /= 10\n",
    "print(\"自举平均错误率B1 =\", b1)"
   ],
   "metadata": {
    "collapsed": false
   }
  },
  {
   "cell_type": "markdown",
   "source": [
    "再计算全部样本上的训练错误率（视在错误率）。"
   ],
   "metadata": {
    "collapsed": false
   }
  },
  {
   "cell_type": "code",
   "execution_count": 4,
   "outputs": [
    {
     "name": "stdout",
     "output_type": "stream",
     "text": [
      "全部样本上的训练错误率AE = 0.0\n"
     ]
    }
   ],
   "source": [
    "lsvc = LinearSVC()\n",
    "lsvc.fit(X, y)\n",
    "ae = 1 - lsvc.score(X, y)\n",
    "print(\"全部样本上的训练错误率AE =\", ae)"
   ],
   "metadata": {
    "collapsed": false
   }
  },
  {
   "cell_type": "markdown",
   "source": [
    "接下来计算B.632错误率。"
   ],
   "metadata": {
    "collapsed": false
   }
  },
  {
   "cell_type": "code",
   "execution_count": 5,
   "outputs": [
    {
     "name": "stdout",
     "output_type": "stream",
     "text": [
      "B.632错误率 = 0.0018980173115955214\n"
     ]
    }
   ],
   "source": [
    "print(\"B.632错误率 =\", 0.368 * ae + 0.632 * b1)"
   ],
   "metadata": {
    "collapsed": false
   }
  }
 ],
 "metadata": {
  "kernelspec": {
   "display_name": "Python 3",
   "language": "python",
   "name": "python3"
  },
  "language_info": {
   "codemirror_mode": {
    "name": "ipython",
    "version": 2
   },
   "file_extension": ".py",
   "mimetype": "text/x-python",
   "name": "python",
   "nbconvert_exporter": "python",
   "pygments_lexer": "ipython2",
   "version": "2.7.6"
  }
 },
 "nbformat": 4,
 "nbformat_minor": 0
}
