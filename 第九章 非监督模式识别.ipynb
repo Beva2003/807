{
 "cells": [
  {
   "cell_type": "markdown",
   "source": [
    "## 第九章 非监督模式识别\n",
    "\n",
    "这一章介绍的是非监督学习中的聚类。主要分为两个思路：一个是根据概率模型进行聚类，另一个是根据数据设计算法进行聚类。\n",
    "\n",
    "书中在介绍概率模型聚类用到了大篇幅的概率公式推导，可以说完全看不懂，我尝试了一个小时之后彻底放弃，只能赌一手考研不考。至于到底考不考，等我今年考完研就知道了。\n",
    "\n",
    "下面是书上介绍的基于数据的算法。\n",
    "\n",
    "### 一、C均值算法\n",
    "\n",
    "C均值算法的思想是最小化误差平方和，即最小化$J_e = \\sum_{i=1}^c\\sum_{\\mathbf{y}\\in\\Gamma_i}||\\mathbf{y}-\\mathbf{m}_i||^2$。\n",
    "\n",
    "具体算法如下：\n",
    "\n",
    "1. 初始化划分$c$个聚类，具体初始化划分书上给了好多方法，不过都是启发式的算法，具体怎么初始化划分都可以。\n",
    "2. 遍历所有样本，如果当前样本所在的类的样本数量$N_i > 1$，则比较把这个样本移动到别的类造成的误差平方和变化，即比较：\n",
    "\n",
    "$$\\begin{align}\n",
    "\\rho_j &= \\frac{N_j}{N_j + 1}||\\mathbf{y}-\\mathbf{m}_j||^2, \\quad j\\neq i \\\\\n",
    "\\rho_i &= \\frac{N_i}{N_i - 1}||\\mathbf{y}-\\mathbf{m}_i||^2\n",
    "\\end{align}$$\n",
    "\n",
    "其中$\\mathbf{m}_i$是第$i$类的均值。\n",
    "\n",
    "3. 考察$\\rho_j$中的最小值$\\rho_k$，如果$\\rho_k<\\rho_i$，则把当前样本从$\\Gamma_i$类移动到$\\Gamma_k$类中。移动后重新计算$\\mathbf{m}_i$是第$i$。\n",
    "4. 如果当前一轮遍历把所有样本都考察过了，并且没有移动任何样本，说明已经达到了局部的最小误差平方和，认为收敛。\n",
    "\n",
    "下面实现的代码中，我采用了寻找代表点的方法(2)和初始化分类的方法(1)。其实这些方法实际效果区别不大，用简单的就可以了。\n",
    "\n",
    "实现如下："
   ],
   "metadata": {
    "collapsed": false
   }
  },
  {
   "cell_type": "code",
   "execution_count": 48,
   "outputs": [],
   "source": [
    "import numpy as np\n",
    "import matplotlib.pyplot as plt\n",
    "from sklearn.datasets import load_iris"
   ],
   "metadata": {
    "collapsed": false
   }
  },
  {
   "cell_type": "code",
   "execution_count": 59,
   "outputs": [],
   "source": [
    "class CMeans:\n",
    "    \"\"\"\n",
    "    实现C均值算法的类\n",
    "    \"\"\"\n",
    "    def __init__(self, c: int):\n",
    "        \"\"\"\n",
    "        构造函数\n",
    "        :param c: 指定的聚类数量\n",
    "        \"\"\"\n",
    "        self._c: int = c\n",
    "        # self._c表示聚类数\n",
    "\n",
    "        self._d: int = 0\n",
    "        # self._d表示样本维数\n",
    "\n",
    "        self._N: int = 0\n",
    "        # self._N表示样本总数\n",
    "\n",
    "        self._X: np.ndarray = np.zeros(0)\n",
    "        # self._X存储所有样本\n",
    "\n",
    "        self._clusters: list[set[int]] = []\n",
    "        # self._clusters[i] = {1, 3} 表示第i个聚类中包含1号样本和2号样本\n",
    "\n",
    "        self._m: list[np.ndarray] = [np.zeros(0)] * c\n",
    "        # self._m[i]表示第i个聚类的均值\n",
    "\n",
    "        self.costs: list[float] = []\n",
    "        # self.costs记录每次迭代后的误差平方和\n",
    "\n",
    "    def _update_mean(self):\n",
    "        \"\"\"\n",
    "        更新每一类的均值\n",
    "        \"\"\"\n",
    "        for i in range(self._c):\n",
    "            cluster_sum = np.zeros(self._d)\n",
    "            for j in self._clusters[i]:\n",
    "                cluster_sum += self._X[j]\n",
    "            self._m[i] = cluster_sum / len(self._clusters[i])\n",
    "\n",
    "    def initialize(self, _X: np.ndarray):\n",
    "        \"\"\"\n",
    "        初始化聚类\n",
    "        :param _X: 样本矩阵，每一行是一个样本（N * d）\n",
    "        \"\"\"\n",
    "        if _X.shape[0] <= self._c:\n",
    "            raise Exception(\"样本数量必须比分类数量大！\")\n",
    "\n",
    "        self._X = _X\n",
    "        self._N = _X.shape[0]\n",
    "        self._d = _X.shape[1]\n",
    "\n",
    "        np.random.shuffle(_X)\n",
    "        for i in range(self._c):\n",
    "            self._clusters.append({i})\n",
    "        self._update_mean()\n",
    "\n",
    "        for i in range(self._c, _X.shape[0]):\n",
    "            min_distance = 999999\n",
    "            min_index = 0\n",
    "            for j in range(self._c):\n",
    "                distance = np.sum((_X[i] - self._m[j]) ** 2)\n",
    "                if min_distance > distance:\n",
    "                    min_distance = distance\n",
    "                    min_index = j\n",
    "            self._clusters[min_index].add(i)\n",
    "            self._update_mean()\n",
    "\n",
    "    def _compute_cost(self) -> float:\n",
    "        \"\"\"\n",
    "        计算误差平方和\n",
    "        :return: 误差平方和\n",
    "        \"\"\"\n",
    "        ret = 0\n",
    "        for i in range(self._c):\n",
    "            for j in self._clusters[i]:\n",
    "                ret += np.sum((self._X[j] - self._m[i]) ** 2)\n",
    "        return ret\n",
    "\n",
    "    def cluster(self):\n",
    "        \"\"\"\n",
    "        开始运行迭代聚类算法\n",
    "        \"\"\"\n",
    "        clusters_order = np.random.permutation(self._c)\n",
    "        # 随机生成遍历的顺序\n",
    "\n",
    "        iters = 0\n",
    "        confirmed_samples = 0\n",
    "        while confirmed_samples < self._N:\n",
    "            flag = False\n",
    "            for c in clusters_order:\n",
    "                if flag:\n",
    "                    break\n",
    "                cluster = list(self._clusters[c])\n",
    "                N_i = len(self._clusters[c])\n",
    "                samples_order = np.random.permutation(N_i)\n",
    "                # 随机生成遍历的顺序\n",
    "                for i in samples_order:\n",
    "                    if flag:\n",
    "                        break\n",
    "                    rho_i = np.sum(N_i / (N_i - 1) * (self._X[cluster[i]] - self._m[c]) ** 2)\n",
    "                    min_value_of_rho_j = 999999\n",
    "                    min_cluster_of_rho_j = 0\n",
    "                    for j in range(self._c):\n",
    "                        if c == j:\n",
    "                            continue\n",
    "                        N_j = len(self._clusters[j])\n",
    "                        rho_j = np.sum(N_j / (N_j + 1) * (self._X[cluster[i]] - self._m[j]) ** 2)\n",
    "                        if min_value_of_rho_j > rho_j:\n",
    "                            min_value_of_rho_j = rho_j\n",
    "                            min_cluster_of_rho_j = j\n",
    "                    iters += 1\n",
    "                    if min_value_of_rho_j < rho_i:\n",
    "                        self._clusters[c].remove(cluster[i])\n",
    "                        self._clusters[min_cluster_of_rho_j].add(cluster[i])\n",
    "                        self._update_mean()\n",
    "                        self.costs.append(self._compute_cost())\n",
    "                        confirmed_samples = 0\n",
    "                        flag = True\n",
    "                        break\n",
    "                    confirmed_samples += 1\n",
    "                    if iters >= 1000000:\n",
    "                        raise Exception(\"迭代了100000次还不收敛，数据可能有问题\")\n",
    "\n",
    "    def result(self) -> np.ndarray:\n",
    "        \"\"\"\n",
    "        获取聚类结果\n",
    "        :return: 聚类结果向量\n",
    "        \"\"\"\n",
    "        ret = np.zeros(self._N, dtype=int)\n",
    "        for i, cluster in enumerate(self._clusters):\n",
    "            for j in cluster:\n",
    "                ret[j] = i\n",
    "        return ret"
   ],
   "metadata": {
    "collapsed": false
   }
  },
  {
   "cell_type": "markdown",
   "source": [
    "接下来用水仙花的数据来测试一下聚类效果"
   ],
   "metadata": {
    "collapsed": false
   }
  },
  {
   "cell_type": "code",
   "execution_count": 60,
   "outputs": [
    {
     "name": "stdout",
     "output_type": "stream",
     "text": [
      "原始数据类别为：\n",
      "[0 0 0 0 0 0 0 0 0 0 0 0 0 0 0 0 0 0 0 0 0 0 0 0 0 0 0 0 0 0 0 0 0 0 0 0 0\n",
      " 0 0 0 0 0 0 0 0 0 0 0 0 0 1 1 1 1 1 1 1 1 1 1 1 1 1 1 1 1 1 1 1 1 1 1 1 1\n",
      " 1 1 1 1 1 1 1 1 1 1 1 1 1 1 1 1 1 1 1 1 1 1 1 1 1 1 2 2 2 2 2 2 2 2 2 2 2\n",
      " 2 2 2 2 2 2 2 2 2 2 2 2 2 2 2 2 2 2 2 2 2 2 2 2 2 2 2 2 2 2 2 2 2 2 2 2 2\n",
      " 2 2]\n",
      "聚类获得的类别为：\n",
      "[1 1 1 0 1 1 1 0 2 0 2 1 0 1 2 0 1 1 0 1 2 0 2 0 0 1 1 2 2 0 0 1 2 1 2 2 2\n",
      " 0 1 0 0 1 2 2 1 2 0 2 2 0 1 2 2 1 0 1 1 2 0 2 0 2 2 1 0 2 1 2 2 0 1 1 1 1\n",
      " 2 1 1 0 2 2 2 2 2 1 0 1 1 0 2 1 0 2 1 1 1 1 1 0 2 0 0 1 1 2 1 0 1 2 1 0 2\n",
      " 2 1 1 2 1 2 1 0 0 2 1 1 1 1 1 0 0 1 1 1 1 2 0 1 2 2 2 1 2 2 2 0 2 2 0 1 1\n",
      " 1 0]\n"
     ]
    }
   ],
   "source": [
    "iris = load_iris()\n",
    "X = iris.data\n",
    "y = iris.target\n",
    "\n",
    "cmeans = CMeans(3)\n",
    "cmeans.initialize(X)\n",
    "cmeans.cluster()\n",
    "y_clustered = cmeans.result()\n",
    "print(\"原始数据类别为：\")\n",
    "print(y)\n",
    "print(\"聚类获得的类别为：\")\n",
    "print(y_clustered)"
   ],
   "metadata": {
    "collapsed": false
   }
  },
  {
   "cell_type": "markdown",
   "source": [
    "可以看到聚类获得类别和原始类别非常不同，这是非常正常的现象。\n",
    "\n",
    "接下来可视化的观察一下随着迭代，误差平方和的变化。"
   ],
   "metadata": {
    "collapsed": false
   }
  },
  {
   "cell_type": "code",
   "execution_count": 71,
   "outputs": [
    {
     "data": {
      "text/plain": "<Figure size 640x480 with 1 Axes>",
      "image/png": "[encoded data removed]"
     },
     "metadata": {},
     "output_type": "display_data"
    }
   ],
   "source": [
    "costs = cmeans.costs\n",
    "iters = np.arange(1, len(costs) + 1)\n",
    "plt.plot(iters, costs, color='orange', marker='o')\n",
    "plt.xlabel(\"iteration\")\n",
    "plt.ylabel(\"bias square sum\")\n",
    "plt.show()"
   ],
   "metadata": {
    "collapsed": false
   }
  },
  {
   "cell_type": "markdown",
   "source": [
    "从图像可以看出只迭代了三次，每次迭代误差平方和都在下降。"
   ],
   "metadata": {
    "collapsed": false
   }
  },
  {
   "cell_type": "markdown",
   "source": [
    "### 二、ISODATA方法"
   ],
   "metadata": {
    "collapsed": false
   }
  }
 ],
 "metadata": {
  "kernelspec": {
   "display_name": "Python 3",
   "language": "python",
   "name": "python3"
  },
  "language_info": {
   "codemirror_mode": {
    "name": "ipython",
    "version": 2
   },
   "file_extension": ".py",
   "mimetype": "text/x-python",
   "name": "python",
   "nbconvert_exporter": "python",
   "pygments_lexer": "ipython2",
   "version": "2.7.6"
  }
 },
 "nbformat": 4,
 "nbformat_minor": 0
}
