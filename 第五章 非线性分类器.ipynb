{
 "cells": [
  {
   "cell_type": "markdown",
   "source": [
    "## 第五章 非线性分类器\n",
    "\n",
    "### 一、分段线性判别函数\n",
    "\n",
    "分段线性判别函数的思想时把每个类$\\omega_i$分为$l_i$个子类$\\omega_i^1, \\omega_i^2, \\cdots, \\omega_i^{l_i}$，然后把这些子类通过线性分类器分别进行判别。\n",
    "\n",
    "首先导包，生成数据\n",
    "\n",
    "X是样本矩阵，每一行是一个样本。\n",
    "\n",
    "real_class是样本的真实类别，共有两类，用1，-1表示。"
   ],
   "metadata": {
    "collapsed": false
   }
  },
  {
   "cell_type": "code",
   "execution_count": 1,
   "outputs": [
    {
     "name": "stdout",
     "output_type": "stream",
     "text": [
      "[[-2.8596884  -2.91013719]\n",
      " [-2.96036867 -3.76759352]\n",
      " [-2.45232371 -3.81112585]\n",
      " [-2.81463743 -3.0322976 ]\n",
      " [-2.53232774 -3.13371034]\n",
      " [-3.58884826 -1.98218639]\n",
      " [-1.94898014 -3.41878915]\n",
      " [-3.92393327 -3.00299313]\n",
      " [-3.22926413 -3.91415201]\n",
      " [-2.00017122 -0.655559  ]\n",
      " [-3.82311755 -3.14225998]\n",
      " [-2.20693374 -2.85972216]\n",
      " [-1.13815618 -2.4476432 ]\n",
      " [-3.20174889 -3.5366999 ]\n",
      " [-4.73176613 -2.28081315]\n",
      " [-3.21138949 -2.82304332]\n",
      " [-3.02053153 -2.233528  ]\n",
      " [-3.65132176 -2.90479104]\n",
      " [-1.86400152 -3.01038688]\n",
      " [-3.57577913 -1.97612595]\n",
      " [ 2.86371116  3.60133161]\n",
      " [ 2.19031897  1.4668165 ]\n",
      " [ 2.84430277  2.03555224]\n",
      " [ 1.53894925  3.52388876]\n",
      " [ 3.42484216  3.90159974]\n",
      " [ 2.36454127  2.32646446]\n",
      " [ 3.68764854  3.08490093]\n",
      " [ 2.85611011  3.26228861]\n",
      " [ 5.18420086  3.62832942]\n",
      " [ 4.35439525  2.25815245]\n",
      " [ 2.43407125  3.29680142]\n",
      " [ 3.11618441  2.30948419]\n",
      " [ 1.999856    3.34854309]\n",
      " [ 2.60900277  2.73841868]\n",
      " [ 3.63132665  2.0270284 ]\n",
      " [ 3.7156776   4.2036194 ]\n",
      " [ 4.59202357  3.66888632]\n",
      " [ 4.02411989  4.02682293]\n",
      " [ 1.31817718  4.13558671]\n",
      " [ 2.93025532  2.79734049]\n",
      " [-5.02099359  3.21846839]\n",
      " [-2.12407198  4.44080444]\n",
      " [-3.40693094  1.8691633 ]\n",
      " [-2.36318402  1.86839564]\n",
      " [-2.87703054  2.24210032]\n",
      " [-2.65839709  2.23526894]\n",
      " [-2.72346246  3.07761335]\n",
      " [-2.91921447  2.44990218]\n",
      " [-2.00537069  3.62108152]\n",
      " [-4.12285867  2.28543015]\n",
      " [-2.24884263  2.04520565]\n",
      " [-2.15386917  4.31991986]\n",
      " [-4.50306751  2.54372919]\n",
      " [-4.94961287  2.01712306]\n",
      " [-2.83540966  4.56658794]\n",
      " [-2.88053258  3.96502104]\n",
      " [-1.47190352  4.10344501]\n",
      " [-2.16702949  2.84612753]\n",
      " [-3.89349034  3.61536008]\n",
      " [-3.93833653  4.52028227]\n",
      " [ 3.57834852 -1.61430592]\n",
      " [ 3.01406729 -1.9063668 ]\n",
      " [ 1.13990091 -1.6722195 ]\n",
      " [ 3.09680263 -0.15886642]\n",
      " [ 2.80324716 -1.44658503]\n",
      " [ 3.00117263 -1.89058322]\n",
      " [ 1.86894874 -1.0574249 ]\n",
      " [ 3.1963042  -1.49745576]\n",
      " [ 3.15267735 -3.34147262]\n",
      " [ 4.39188655 -1.7953751 ]\n",
      " [ 2.34596929 -1.61386135]\n",
      " [ 2.67273403 -3.75415163]\n",
      " [ 2.37399446 -1.55347613]\n",
      " [ 1.84197069 -3.29302236]\n",
      " [ 4.46441479 -3.58646455]\n",
      " [ 1.48622819 -2.8260892 ]\n",
      " [ 2.51318407 -2.18657365]\n",
      " [ 0.74316124 -2.62401696]\n",
      " [ 4.15624671 -1.25411023]\n",
      " [ 3.25430052 -1.87480596]\n",
      " [ 2.79868373 -2.99332154]\n",
      " [ 3.24865962 -3.64475272]\n",
      " [ 3.3943209  -2.58477898]\n",
      " [ 4.65408347 -1.66073902]\n",
      " [ 1.89637116 -1.05024654]\n",
      " [ 1.95623148 -2.92631117]\n",
      " [ 3.74658249 -2.17041565]\n",
      " [ 1.96188099 -3.50422391]\n",
      " [ 4.96727301 -3.90365409]\n",
      " [ 0.95934269 -2.15355061]\n",
      " [ 2.39023335 -0.17634897]\n",
      " [ 2.61356438 -2.87088638]\n",
      " [ 1.99909808 -3.80570766]\n",
      " [ 1.1843824  -2.22011228]\n",
      " [ 1.79453829 -1.66195286]\n",
      " [ 3.05754045 -2.80641735]\n",
      " [ 0.98996215 -2.47599588]\n",
      " [ 2.46094209 -2.47490906]\n",
      " [ 1.85274088 -2.65820268]\n",
      " [ 3.20470165 -2.5802157 ]\n",
      " [ 3.14086229 -3.60689649]\n",
      " [ 1.91945869 -3.70643123]\n",
      " [ 3.17811764 -3.99131307]\n",
      " [ 2.71632643 -2.37950672]\n",
      " [ 2.82600729 -1.66988228]\n",
      " [ 2.72731372 -2.04358228]\n",
      " [ 2.01632566 -3.54814513]\n",
      " [ 4.0759814  -1.52681098]\n",
      " [ 2.87477874 -0.7116271 ]\n",
      " [ 2.51011273 -3.10682364]\n",
      " [ 1.14349643 -2.90258438]\n",
      " [ 3.26007191 -1.27667611]\n",
      " [ 1.17039827 -0.92665857]\n",
      " [ 2.27857932 -2.26768358]\n",
      " [ 1.93047854 -4.2832358 ]\n",
      " [ 4.0956937  -3.03685585]\n",
      " [ 0.27076826 -4.07194594]\n",
      " [ 2.91189764 -1.09805231]\n",
      " [ 1.565601   -4.59669343]\n",
      " [ 1.88200797 -1.49397026]]\n",
      "[1, 1, 1, 1, 1, 1, 1, 1, 1, 1, 1, 1, 1, 1, 1, 1, 1, 1, 1, 1, 1, 1, 1, 1, 1, 1, 1, 1, 1, 1, 1, 1, 1, 1, 1, 1, 1, 1, 1, 1, 1, 1, 1, 1, 1, 1, 1, 1, 1, 1, 1, 1, 1, 1, 1, 1, 1, 1, 1, 1, -1, -1, -1, -1, -1, -1, -1, -1, -1, -1, -1, -1, -1, -1, -1, -1, -1, -1, -1, -1, -1, -1, -1, -1, -1, -1, -1, -1, -1, -1, -1, -1, -1, -1, -1, -1, -1, -1, -1, -1, -1, -1, -1, -1, -1, -1, -1, -1, -1, -1, -1, -1, -1, -1, -1, -1, -1, -1, -1, -1]\n"
     ]
    }
   ],
   "source": [
    "import numpy as np\n",
    "import matplotlib.pyplot as plt\n",
    "\n",
    "X = np.r_[\n",
    "    np.random.randn(20, 2) + [-3.0, -3.0],\n",
    "    np.random.randn(20, 2) + [3.0, 3.0],\n",
    "    np.random.randn(20, 2) + [-3.0, 3.0],\n",
    "    np.random.randn(60, 2) + [2.5, -2.5],\n",
    "]\n",
    "real_class = 60 * [1] + 60 * [-1]\n",
    "\n",
    "print(X)\n",
    "print(real_class)"
   ],
   "metadata": {
    "collapsed": false
   }
  },
  {
   "cell_type": "markdown",
   "source": [
    "下面生成图像，显然1类由三个线性可分的子类构成，-1类由一个类构成"
   ],
   "metadata": {
    "collapsed": false
   }
  },
  {
   "cell_type": "code",
   "execution_count": 2,
   "outputs": [
    {
     "data": {
      "text/plain": "<Figure size 640x480 with 1 Axes>",
      "image/png": "[encoded data removed]"
     },
     "metadata": {},
     "output_type": "display_data"
    }
   ],
   "source": [
    "for i in range(120):\n",
    "    if real_class[i] == -1:\n",
    "        plt.scatter(X[i][0], X[i][1], c='b')\n",
    "    else:\n",
    "        plt.scatter(X[i][0], X[i][1], c='r')\n",
    "\n",
    "plt.show()"
   ],
   "metadata": {
    "collapsed": false
   }
  },
  {
   "cell_type": "markdown",
   "source": [
    "#### 1. 分段线性距离分类器\n",
    "\n",
    "这个分类器的思想就是算出每个子类$\\omega_i^l$的均值$\\mathbf{m}_i^l$，然后比较样本到均值的距离$||\\mathbf{x} - \\mathbf{m}_i^l||$，找最近的类别作为该样本的分类。这个算法思想非常简单，我就不写了。\n",
    "\n",
    "#### 2. 一般的分段线性判别函数\n",
    "\n",
    "这个分类器的思想是划分出子类之后，把每个子类的线性判别函数$g_i^l(\\mathbf{y}) = \\boldsymbol{\\alpha}_i^l\\cdot\\mathbf{y}$算出来，然后根据判别函数进行分类，判别函数数值最大的就是样本所在的类。（这里的$\\mathbf{y}$是增广后的样本，参见上一章）。\n",
    "\n",
    "现在的核心问题是如何划分子类，书上给出了三种方法。\n",
    "\n",
    "第一种是根据经验人为划分，或者可以用聚类算法划分。\n",
    "\n",
    "第二种是边求权向量$\\boldsymbol{\\alpha_i^l}$边划分，算法如下：\n",
    "\n",
    "1. 给定每个类别的子类数目（人为猜的），并且初始化每个子类的权向量$\\boldsymbol{\\alpha}_i^l$（用小的随机数即可）\n",
    "2. 考察一个属于$\\omega_j$类的训练样本$\\mathbf{y}$，找出$\\omega_j$类的子类中线性判别函数（$\\boldsymbol{\\alpha}_j^m\\cdot\\mathbf{y}$）的值最大的子类，假设是第$m$个子类\n",
    "3. 如果刚求出的这个最大的线性判别函数的值比**其他所有类的所有子类**的线性判别函数的值**都大**，即$\\boldsymbol{\\alpha}_j^m \\cdot\\mathbf{y}>\\boldsymbol{\\alpha}_i^l\\cdot \\mathbf{y}, \\forall i = 1,\\cdots, c, i \\neq j, l = 1, \\cdots, l_i$，说明当前样本没有被错分，那么考察下一个样本\n",
    "4. 否则就更新两个子类的权值。更新的两个子类有说法，要特别注意：更新的是**当前样本所属的类别的线性判别函数值最大的子类**和**当前样本被错分的类别的线性判别函数值最大的子类**。更新规则如下：\n",
    "\n",
    "$$\\begin{align}\n",
    "\\boldsymbol{\\alpha}_j^m &+= \\rho\\mathbf{y}\\\\\n",
    "\\boldsymbol{\\alpha}_i^n &-= \\rho\\mathbf{y}\\\\\n",
    "\\end{align}$$\n",
    "$$\\begin{align}\n",
    "& \\omega_j是当前样本属于的类\\\\\n",
    "& \\omega_i是当前样本被错分的类\\\\\n",
    "& 即\\boldsymbol{\\alpha}_j^m \\cdot\\mathbf{y}\\leqslant\\boldsymbol{\\alpha}_i^n\\cdot \\mathbf{y}\\\\\n",
    "& m是\\omega_j中线性判别函数最大的子类序号\\\\\n",
    "& n是\\omega_i中线性判别函数最大的子类序号\\\\\n",
    "\\end{align}$$\n",
    "\n",
    "对于线性不可分的情况，可以使训练步长$\\rho$逐渐变小来使算法强制收敛。（书里也没说具体怎么变小）\n",
    "\n",
    "前面给出的数据集对于每个子类都是线性可分的，所以下面的算法里把$\\rho$设为1了。\n",
    "\n",
    "这种方法没有人为的划分子类，只是指定了子类的数量，样本属于哪个子类其实是自动划分的\n",
    "\n",
    "求权向量实现代码如下："
   ],
   "metadata": {
    "collapsed": false
   }
  },
  {
   "cell_type": "code",
   "execution_count": 0,
   "outputs": [],
   "source": [
    "def augment_matrix(_X: np.ndarray) -> np.ndarray:\n",
    "    \"\"\"\n",
    "    将样本X矩阵增广为Y\n",
    "    :param _X: 原样本矩阵\n",
    "    :return: 增广后的样本矩阵\n",
    "    \"\"\"\n",
    "    return np.concatenate((np.ones((_X.shape[0], 1)), _X), 1)\n",
    "\n",
    "def get_alpha_piecewise_linear(_X: list[np.ndarray], _subclass_number: list[int]) -> (list[np.ndarray], int):\n",
    "    \"\"\"\n",
    "    计算出每个子类的权向量\n",
    "    :param _X: 每个类别的样本矩阵列表（增广前） _X[i]表示第i类的样本矩阵\n",
    "    :param _subclass_number: 每个类别分出来的子类数量（一维向量） _subclass_number[i] = j表示第i类有j个子类\n",
    "    :return: 每个子类的权向量数组 return[i][j]表示第i类的第j个子类的权向量\n",
    "    \"\"\"\n",
    "    # 先求出每个类别样本的增广矩阵\n",
    "    _Y: list[np.ndarray] = []\n",
    "    N = 0  # 样本总数\n",
    "    for _Xi in _X:\n",
    "        _Y.append(augment_matrix(_Xi))\n",
    "        N += _Y[-1].shape[0]\n",
    "\n",
    "    d = _Y[0].shape[1]  # 样本维数\n",
    "    c = len(_Y)         # 种类数量\n",
    "\n",
    "    # 初始化权向量列表（随机数）\n",
    "    _alphas: list[np.ndarray] = []\n",
    "    for i in range(c):\n",
    "        _alphas.append(np.random.randn(_subclass_number[i], d))\n",
    "\n",
    "    # 下面开始考察每一个样本\n",
    "    _iters = 0\n",
    "    i, j, n = 0, 0, 0\n",
    "    while n < N:\n",
    "        if j >= _Y[i].shape[0]:\n",
    "            i += 1\n",
    "            j = 0\n",
    "            if i >= c:\n",
    "                i = 0\n",
    "        # 当前考察的样本属于第i类\n",
    "        max_g_of_right_class_value = -9999999\n",
    "        max_g_of_right_class_index = 0\n",
    "        g = _Y[i][j] @ _alphas[i].T\n",
    "        for k in range(_subclass_number[i]):\n",
    "            if g[k] > max_g_of_right_class_value:\n",
    "                max_g_of_right_class_index = k\n",
    "                max_g_of_right_class_value = g[k]\n",
    "\n",
    "        # 考察每一个除了i之外的类别，计算判别函数，比较是否分类错误\n",
    "        for k in range(c):\n",
    "            if k == i:\n",
    "                continue\n",
    "            max_g_of_wrong_class_value = -9999999\n",
    "            max_g_of_wrong_class_index = 0\n",
    "            g = _Y[i][j] @ _alphas[k].T\n",
    "            for l in range(_subclass_number[k]):\n",
    "                if g[l] > max_g_of_wrong_class_value:\n",
    "                    max_g_of_wrong_class_value = g[l]\n",
    "                    max_g_of_wrong_class_index = l\n",
    "            if max_g_of_wrong_class_value >= max_g_of_right_class_value:\n",
    "                # 如果分类错误，则要更新权向量\n",
    "                n = -1\n",
    "                _iters += 1\n",
    "                _alphas[i][max_g_of_right_class_index] += _Y[i][j]\n",
    "                _alphas[k][max_g_of_wrong_class_index] -= _Y[i][j]\n",
    "                break\n",
    "            if _iters >= 100000:\n",
    "                raise Exception('迭代100000次还不收敛，数据可能不是线性可分的')\n",
    "        n += 1\n",
    "        j += 1\n",
    "    return _alphas, _iters"
   ],
   "metadata": {
    "collapsed": false
   }
  },
  {
   "cell_type": "code",
   "execution_count": 23,
   "outputs": [
    {
     "name": "stdout",
     "output_type": "stream",
     "text": [
      "第一类的所有子类的权向量（每一行是一个权向量）：\n",
      " [[ 1.01848496e+00 -8.15113173e+00 -4.12926837e+00]\n",
      " [ 2.54386312e-01 -4.02457777e-01 -3.15953573e-03]\n",
      " [ 9.42934212e-01  1.35783124e+00  1.20361148e+01]]\n",
      "第二类的所有子类的权向量（每一行是一个权向量）：\n",
      " [[-1.32262581  6.66700246 -6.23387516]]\n",
      "迭代次数： 13\n"
     ]
    }
   ],
   "source": [
    "alphas, iters = get_alpha_piecewise_linear([X[:60], X[60:]], [3, 1])\n",
    "print(\"第一类的所有子类的权向量（每一行是一个权向量）：\\n\", alphas[0])\n",
    "print(\"第二类的所有子类的权向量（每一行是一个权向量）：\\n\", alphas[1])\n",
    "print(\"迭代次数：\", iters)"
   ],
   "metadata": {
    "collapsed": false
   }
  },
  {
   "cell_type": "markdown",
   "source": [
    "分类就比较好写了，直接计算所有类的所有子类的判别函数，找出最大的，判断样本属于最大的判别函数的类别"
   ],
   "metadata": {
    "collapsed": false
   }
  },
  {
   "cell_type": "code",
   "execution_count": 28,
   "outputs": [
    {
     "name": "stdout",
     "output_type": "stream",
     "text": [
      "这个数组显示了每个样本被分到了哪个子类（0，1，2是第一类的子类，3是第二类的子类）\n",
      " [0, 0, 0, 0, 0, 0, 0, 0, 0, 0, 0, 0, 0, 0, 0, 0, 0, 0, 0, 0, 2, 2, 2, 2, 2, 2, 2, 2, 2, 2, 2, 2, 2, 2, 2, 2, 2, 2, 2, 2, 2, 2, 0, 2, 2, 2, 2, 2, 2, 0, 2, 2, 0, 0, 2, 2, 2, 2, 2, 2, 3, 3, 3, 3, 3, 3, 3, 3, 3, 3, 3, 3, 3, 3, 3, 3, 3, 3, 3, 3, 3, 3, 3, 3, 3, 3, 3, 3, 3, 3, 3, 3, 3, 3, 3, 3, 3, 3, 3, 3, 3, 3, 3, 3, 3, 3, 3, 3, 3, 3, 3, 3, 3, 3, 3, 3, 3, 3, 3, 3]\n",
      "最终分类结果： [ 1  1  1  1  1  1  1  1  1  1  1  1  1  1  1  1  1  1  1  1  1  1  1  1\n",
      "  1  1  1  1  1  1  1  1  1  1  1  1  1  1  1  1  1  1  1  1  1  1  1  1\n",
      "  1  1  1  1  1  1  1  1  1  1  1  1 -1 -1 -1 -1 -1 -1 -1 -1 -1 -1 -1 -1\n",
      " -1 -1 -1 -1 -1 -1 -1 -1 -1 -1 -1 -1 -1 -1 -1 -1 -1 -1 -1 -1 -1 -1 -1 -1\n",
      " -1 -1 -1 -1 -1 -1 -1 -1 -1 -1 -1 -1 -1 -1 -1 -1 -1 -1 -1 -1 -1 -1 -1 -1]\n",
      "正确率： 1.0\n"
     ]
    }
   ],
   "source": [
    "g_matrix = augment_matrix(X) @ np.concatenate([alphas[0], alphas[1]]).T\n",
    "ans_piecewise_linear = []  # 最终的两类分类结果\n",
    "ans_subclass = []          # 这个数组记录了样本分类到了哪个子类\n",
    "\n",
    "# 找出最大的判别函数\n",
    "for row in g_matrix:\n",
    "    maxn = -99999\n",
    "    subclass_of_this_sample = 0\n",
    "    for i, g in enumerate(row):\n",
    "        if maxn < g:\n",
    "            subclass_of_this_sample = i\n",
    "            maxn = g\n",
    "    ans_subclass.append(subclass_of_this_sample)\n",
    "\n",
    "print(\"这个数组显示了每个样本被分到了哪个子类（0，1，2是第一类的子类，3是第二类的子类）\\n\", ans_subclass)\n",
    "\n",
    "# 接下来求出最终的分类结果\n",
    "\n",
    "for sample in ans_subclass:\n",
    "    if sample < 3:\n",
    "        ans_piecewise_linear.append(1)\n",
    "    else:\n",
    "        ans_piecewise_linear.append(-1)\n",
    "\n",
    "ans_piecewise_linear = np.array(ans_piecewise_linear)\n",
    "print(\"最终分类结果：\", ans_piecewise_linear)\n",
    "print(\"正确率：\", 1 - np.sum(abs(ans_piecewise_linear - real_class)) / 2 / X.shape[0])\n"
   ],
   "metadata": {
    "collapsed": false
   }
  },
  {
   "cell_type": "markdown",
   "source": [
    "通过上面的结果我们可以明显看出，虽然我的数据生成的时候有意的把第一类分成了三个线性可分的子类（每20个数据属于一个子类），但是由于上面的算法是自动划分子类，最终第一大类的样本并没有像预期那样，均匀的划分为三个子类。但是这并不影响最终结果的正确性。"
   ],
   "metadata": {
    "collapsed": false
   }
  },
  {
   "cell_type": "markdown",
   "source": [
    "第三种是分治的思想，通过分类树来一步一步进行。每次都把当前分类的部分用两类线性判别算法分出来，最后形成一棵分类的二叉树。\n",
    "这个方法书上只简单的介绍了一下，而且实际操作中会有很多问题要解决。另外根据我的估算就算实现了这个算法效果也不好，会有非常严重的过拟合问题。所以我就不在这个算法上浪费时间了。"
   ],
   "metadata": {
    "collapsed": false
   }
  },
  {
   "cell_type": "markdown",
   "source": [
    "### 二. 二次判别函数\n",
    "\n",
    "书上就简单提了一下，总体思想就是样本到均值的马氏距离的平方和固定阈值的比较。书中连阈值怎么求都没解释，这节也可以略过。\n",
    "\n",
    "### 三、多层感知机神经网络\n",
    "\n",
    "这个算法吴恩达的网课里面Course 2里面讲了，看不懂书可以去看看他的课，讲的很清楚。"
   ],
   "metadata": {
    "collapsed": false
   }
  }
 ],
 "metadata": {
  "kernelspec": {
   "display_name": "Python 3",
   "language": "python",
   "name": "python3"
  },
  "language_info": {
   "codemirror_mode": {
    "name": "ipython",
    "version": 2
   },
   "file_extension": ".py",
   "mimetype": "text/x-python",
   "name": "python",
   "nbconvert_exporter": "python",
   "pygments_lexer": "ipython2",
   "version": "2.7.6"
  }
 },
 "nbformat": 4,
 "nbformat_minor": 0
}
