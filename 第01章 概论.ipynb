{
 "cells": [
  {
   "cell_type": "markdown",
   "id": "616cb730",
   "metadata": {},
   "source": [
    "# 第一章 概论\n",
    "---"
   ]
  },
  {
   "cell_type": "markdown",
   "id": "32d1dff8",
   "metadata": {},
   "source": [
    "## 二轮总结笔记\n",
    "\n",
    "### 1. 模式识别的主要方法\n",
    "\n",
    "$$\n",
    "模式识别\\begin{cases}基于知识\\begin{cases}专家系统\\\\ 句法识别\\end{cases}\\\\ 基于数据\\end{cases}\n",
    "$$\n",
    "\n",
    "### 2. 模式识别的基本步骤\n",
    "\n",
    "$$\n",
    "\\begin{cases}监督模式识别\\begin{cases}分析问题\\\\原始特征获取\\\\特征提取与选择\\\\分类器设计\\\\分类决策\\end{cases}\\\\非监督模式识别\\begin{cases}分析问题\\\\原始特征获取\\\\特征提取与选择\\\\聚类分析\\\\结果解释\\end{cases}\\end{cases}\n",
    "$$"
   ]
  }
 ],
 "metadata": {
  "kernelspec": {
   "display_name": "Python 3 (ipykernel)",
   "language": "python",
   "name": "python3"
  },
  "language_info": {
   "codemirror_mode": {
    "name": "ipython",
    "version": 3
   },
   "file_extension": ".py",
   "mimetype": "text/x-python",
   "name": "python",
   "nbconvert_exporter": "python",
   "pygments_lexer": "ipython3",
   "version": "3.9.16"
  }
 },
 "nbformat": 4,
 "nbformat_minor": 5
}
