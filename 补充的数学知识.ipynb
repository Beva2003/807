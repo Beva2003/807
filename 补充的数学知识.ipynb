{
 "cells": [
  {
   "cell_type": "markdown",
   "source": [
    "## 说明\n",
    "\n",
    "书中涉及到大量的高等数学、线性代数和概率论与数理统计的知识。在本科的这三门课程中学的内容不能完全覆盖书中需要的知识点。下面是我的补充。\n",
    "\n",
    "### 一、向量求导规则\n",
    "\n",
    "$$\\begin{align}\n",
    "\\frac{\\partial \\mathbf{Ax}}{\\partial \\mathbf{x}} &= \\mathbf{A}^T\\\\\n",
    "\\frac{\\partial \\mathbf{Ax}}{\\partial \\mathbf{x}^T} &= \\mathbf{A}\\\\\n",
    "\\frac{\\partial \\mathbf{x}^T\\mathbf{A}}{\\partial \\mathbf{x}} &= \\mathbf{A}\\\\\n",
    "\\frac{\\partial \\mathbf{x}^T\\mathbf{A}\\mathbf{x}}{\\partial \\mathbf{x}} &= (\\mathbf{A}^T + \\mathbf{A})\\mathbf{x} \\\\\n",
    "\\frac{\\partial \\mathbf{x\\cdot x}}{\\partial \\mathbf{x}} &= \\frac{\\mathbf{x}^T\\mathbf{x}}{\\partial \\mathbf{x}} = 2\\mathbf{x}\\\\\n",
    "\\frac{\\partial \\mathbf{w\\cdot x}}{\\partial \\mathbf{x}} &= \\frac{\\partial \\mathbf{w}^T\\mathbf{x}}{\\partial \\mathbf{x}} = \\mathbf{w}\n",
    "\\end{align}$$\n",
    "\n",
    "### 二、超空间几何\n",
    "\n",
    "#### 1. 点到超平面距离\n",
    "\n",
    "假设在$n$维空间中，有超平面$\\mathbf{w}\\cdot \\mathbf{x} + b = 0$，有一点$\\mathbf{x}_0$。\n",
    "\n",
    "则点到超平面的距离为：\n",
    "\n",
    "$$d = \\frac{|\\mathbf{w} \\cdot \\mathbf{x}_0 + b|}{||\\mathbf{w}||}$$\n",
    "\n",
    "#### 2. 平行的超平面的距离\n",
    "\n",
    "假设在$n$维空间中，有两个平行的超平面\n",
    "\n",
    "$$\\mathbf{w}\\cdot \\mathbf{x} + b_1 = 0\\\\\n",
    " \\mathbf{w}\\cdot \\mathbf{x} + b_2 = 0$$\n",
    "\n",
    "因为平行的超平面的权向量（$\\mathbf{w}$向量）一定成比例，所以上面的公式把两个超平面的权向量化成一样的了，这时就只有$b$不同。\n",
    "\n",
    "则两个超平面之间的距离为：\n",
    "\n",
    "$$d = \\frac{|b_1-b_2|}{||\\mathbf{w}||}$$"
   ],
   "metadata": {
    "collapsed": false
   }
  }
 ],
 "metadata": {
  "kernelspec": {
   "display_name": "Python 3",
   "language": "python",
   "name": "python3"
  },
  "language_info": {
   "codemirror_mode": {
    "name": "ipython",
    "version": 2
   },
   "file_extension": ".py",
   "mimetype": "text/x-python",
   "name": "python",
   "nbconvert_exporter": "python",
   "pygments_lexer": "ipython2",
   "version": "2.7.6"
  }
 },
 "nbformat": 4,
 "nbformat_minor": 0
}
